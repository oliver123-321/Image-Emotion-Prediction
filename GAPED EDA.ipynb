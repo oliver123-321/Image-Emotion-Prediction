{
 "cells": [
  {
   "cell_type": "markdown",
   "metadata": {
    "colab_type": "text",
    "id": "stpg34xMz2f3"
   },
   "source": [
    "The goal of this project is to have a model predict some emotion ratings associated with an image. Pre-trained models will be used on an image set from an emotion study to learn a regression problem.\n",
    "\n",
    "Below lists the link to the study and link to the image dataset (GAPED) used for the project. <br/>\n",
    "Link to study: https://link.springer.com/content/pdf/10.3758/s13428-011-0064-1.pdf <br/>\n",
    "Link to image dataset: https://www.unige.ch/cisa/research/materials-and-online-research/research-material/\n",
    "\n",
    "For information about transfer learning: https://machinelearningmastery.com/how-to-use-transfer-learning-when-developing-convolutional-neural-network-models/ <br/>\n",
    "Keras models: https://keras.io/api/applications/"
   ]
  },
  {
   "cell_type": "code",
   "execution_count": 1,
   "metadata": {
    "colab": {},
    "colab_type": "code",
    "id": "mt2oOVBxz2f_"
   },
   "outputs": [],
   "source": [
    "#Import packages\n",
    "import numpy as np\n",
    "import pandas as pd\n",
    "import matplotlib.pyplot as plt\n",
    "%matplotlib inline\n",
    "import os"
   ]
  },
  {
   "cell_type": "markdown",
   "metadata": {},
   "source": [
    "**Set the paths for various paths that will be called on.**"
   ]
  },
  {
   "cell_type": "code",
   "execution_count": 2,
   "metadata": {},
   "outputs": [],
   "source": [
    "data_path='../Data/'\n",
    "img_path='../Images/'\n",
    "model_path='../Models/'\n",
    "results_path='../Results/'"
   ]
  },
  {
   "cell_type": "markdown",
   "metadata": {},
   "source": [
    "In the study, the images were broken up into 6 types.\n",
    "\n",
    "There were four specific negative content: <br/>\n",
    "**A:** Animal mistreatment<br/>\n",
    "**H:** Human rights violation<br/>\n",
    "**Sn:** Snakes <br/>\n",
    "**Sp:** Spiders\n",
    "\n",
    "**Positive** images contain: Human and animal babies, and nature sceneries <br/>\n",
    "**Neutral** images contain: Inanimate objects\n",
    "\n",
    "\n",
    "Each image had human ratings on some emotion measures."
   ]
  },
  {
   "cell_type": "code",
   "execution_count": 3,
   "metadata": {
    "colab": {},
    "colab_type": "code",
    "id": "zfanHJS7z2gR"
   },
   "outputs": [],
   "source": [
    "#Reading in all the results from the study\n",
    "A=pd.read_csv(data_path+'Study Results/A.txt', sep='\\t')\n",
    "H=pd.read_csv(data_path+'Study Results/H.txt', sep='\\t')\n",
    "N=pd.read_csv(data_path+'Study Results/N.txt', sep='\\t')\n",
    "P=pd.read_csv(data_path+'Study Results/P.txt', sep='\\t')\n",
    "Sn=pd.read_csv(data_path+'Study Results/Sn.txt', sep='\\t')\n",
    "Sp=pd.read_csv(data_path+'Study Results/Sp.txt', sep='\\t')"
   ]
  },
  {
   "cell_type": "code",
   "execution_count": 4,
   "metadata": {},
   "outputs": [],
   "source": [
    "#The same files as above, but with standard deviations for each human-inputted ratings\n",
    "A_sd=pd.read_csv(data_path+'Study Results/A_with SD.txt', sep='\\t')\n",
    "H_sd=pd.read_csv(data_path+'Study Results/H_with SD.txt', sep='\\t')\n",
    "N_sd=pd.read_csv(data_path+'Study Results/N_with SD.txt', sep='\\t')\n",
    "P_sd=pd.read_csv(data_path+'Study Results/P_with SD.txt', sep='\\t')\n",
    "Sn_sd=pd.read_csv(data_path+'Study Results/Sn_with SD.txt', sep='\\t')\n",
    "Sp_sd=pd.read_csv(data_path+'Study Results/Sp_with SD.txt', sep='\\t')"
   ]
  },
  {
   "cell_type": "code",
   "execution_count": 5,
   "metadata": {
    "colab": {},
    "colab_type": "code",
    "id": "-T9dcv_hz2g0"
   },
   "outputs": [],
   "source": [
    "#Combining results together\n",
    "df=pd.concat([A,H,N,P,Sn,Sp], axis=0).reset_index(drop=True)"
   ]
  },
  {
   "cell_type": "code",
   "execution_count": 6,
   "metadata": {},
   "outputs": [],
   "source": [
    "#Combining the results that has standard deviations together\n",
    "df_sd=pd.concat([A_sd,H_sd,N_sd,P_sd,Sn_sd,Sp_sd], axis=0).reset_index(drop=True)"
   ]
  },
  {
   "cell_type": "code",
   "execution_count": 7,
   "metadata": {},
   "outputs": [
    {
     "data": {
      "text/html": [
       "<div>\n",
       "<style scoped>\n",
       "    .dataframe tbody tr th:only-of-type {\n",
       "        vertical-align: middle;\n",
       "    }\n",
       "\n",
       "    .dataframe tbody tr th {\n",
       "        vertical-align: top;\n",
       "    }\n",
       "\n",
       "    .dataframe thead th {\n",
       "        text-align: right;\n",
       "    }\n",
       "</style>\n",
       "<table border=\"1\" class=\"dataframe\">\n",
       "  <thead>\n",
       "    <tr style=\"text-align: right;\">\n",
       "      <th></th>\n",
       "      <th>Unnamed: 0</th>\n",
       "      <th>Valence</th>\n",
       "      <th>Arousal</th>\n",
       "      <th>Internal norms</th>\n",
       "      <th>External norms</th>\n",
       "    </tr>\n",
       "  </thead>\n",
       "  <tbody>\n",
       "    <tr>\n",
       "      <th>0</th>\n",
       "      <td>A001.jpg</td>\n",
       "      <td>2.553</td>\n",
       "      <td>74.995</td>\n",
       "      <td>12.289429</td>\n",
       "      <td>16.409175</td>\n",
       "    </tr>\n",
       "    <tr>\n",
       "      <th>1</th>\n",
       "      <td>A002.jpg</td>\n",
       "      <td>45.698</td>\n",
       "      <td>56.948</td>\n",
       "      <td>75.412445</td>\n",
       "      <td>78.690491</td>\n",
       "    </tr>\n",
       "    <tr>\n",
       "      <th>2</th>\n",
       "      <td>A004.jpg</td>\n",
       "      <td>36.197</td>\n",
       "      <td>55.567</td>\n",
       "      <td>40.215111</td>\n",
       "      <td>63.345528</td>\n",
       "    </tr>\n",
       "    <tr>\n",
       "      <th>3</th>\n",
       "      <td>A005.jpg</td>\n",
       "      <td>43.439</td>\n",
       "      <td>48.905</td>\n",
       "      <td>51.038688</td>\n",
       "      <td>40.093340</td>\n",
       "    </tr>\n",
       "    <tr>\n",
       "      <th>4</th>\n",
       "      <td>A006.jpg</td>\n",
       "      <td>27.544</td>\n",
       "      <td>67.897</td>\n",
       "      <td>22.594799</td>\n",
       "      <td>31.434631</td>\n",
       "    </tr>\n",
       "  </tbody>\n",
       "</table>\n",
       "</div>"
      ],
      "text/plain": [
       "  Unnamed: 0  Valence  Arousal  Internal norms  External norms\n",
       "0   A001.jpg    2.553   74.995       12.289429       16.409175\n",
       "1   A002.jpg   45.698   56.948       75.412445       78.690491\n",
       "2   A004.jpg   36.197   55.567       40.215111       63.345528\n",
       "3   A005.jpg   43.439   48.905       51.038688       40.093340\n",
       "4   A006.jpg   27.544   67.897       22.594799       31.434631"
      ]
     },
     "execution_count": 7,
     "metadata": {},
     "output_type": "execute_result"
    }
   ],
   "source": [
    "#Check dataframe\n",
    "df.head()"
   ]
  },
  {
   "cell_type": "code",
   "execution_count": 8,
   "metadata": {},
   "outputs": [
    {
     "data": {
      "text/html": [
       "<div>\n",
       "<style scoped>\n",
       "    .dataframe tbody tr th:only-of-type {\n",
       "        vertical-align: middle;\n",
       "    }\n",
       "\n",
       "    .dataframe tbody tr th {\n",
       "        vertical-align: top;\n",
       "    }\n",
       "\n",
       "    .dataframe thead th {\n",
       "        text-align: right;\n",
       "    }\n",
       "</style>\n",
       "<table border=\"1\" class=\"dataframe\">\n",
       "  <thead>\n",
       "    <tr style=\"text-align: right;\">\n",
       "      <th></th>\n",
       "      <th>Unnamed: 0</th>\n",
       "      <th>Valence</th>\n",
       "      <th>(SD)</th>\n",
       "      <th>Unnamed: 3</th>\n",
       "      <th>Arousal</th>\n",
       "      <th>(SD).1</th>\n",
       "      <th>Unnamed: 6</th>\n",
       "      <th>Internal norms</th>\n",
       "      <th>(SD).2</th>\n",
       "      <th>Unnamed: 9</th>\n",
       "      <th>External norms</th>\n",
       "      <th>(SD).3</th>\n",
       "    </tr>\n",
       "  </thead>\n",
       "  <tbody>\n",
       "    <tr>\n",
       "      <th>0</th>\n",
       "      <td>A001.jpg</td>\n",
       "      <td>2.553</td>\n",
       "      <td>(5.43)</td>\n",
       "      <td>NaN</td>\n",
       "      <td>74.995</td>\n",
       "      <td>(22.06)</td>\n",
       "      <td>NaN</td>\n",
       "      <td>12.289</td>\n",
       "      <td>(29.83)</td>\n",
       "      <td>NaN</td>\n",
       "      <td>16.409</td>\n",
       "      <td>(31.96)</td>\n",
       "    </tr>\n",
       "    <tr>\n",
       "      <th>1</th>\n",
       "      <td>A002.jpg</td>\n",
       "      <td>45.698</td>\n",
       "      <td>(16.01)</td>\n",
       "      <td>NaN</td>\n",
       "      <td>56.948</td>\n",
       "      <td>(25.21)</td>\n",
       "      <td>NaN</td>\n",
       "      <td>75.412</td>\n",
       "      <td>(25.49)</td>\n",
       "      <td>NaN</td>\n",
       "      <td>78.690</td>\n",
       "      <td>(22.93)</td>\n",
       "    </tr>\n",
       "    <tr>\n",
       "      <th>2</th>\n",
       "      <td>A004.jpg</td>\n",
       "      <td>36.197</td>\n",
       "      <td>(25.63)</td>\n",
       "      <td>NaN</td>\n",
       "      <td>55.567</td>\n",
       "      <td>(30.98)</td>\n",
       "      <td>NaN</td>\n",
       "      <td>40.215</td>\n",
       "      <td>(40.99)</td>\n",
       "      <td>NaN</td>\n",
       "      <td>63.346</td>\n",
       "      <td>(42.37)</td>\n",
       "    </tr>\n",
       "    <tr>\n",
       "      <th>3</th>\n",
       "      <td>A005.jpg</td>\n",
       "      <td>43.439</td>\n",
       "      <td>(21.20)</td>\n",
       "      <td>NaN</td>\n",
       "      <td>48.905</td>\n",
       "      <td>(31.39)</td>\n",
       "      <td>NaN</td>\n",
       "      <td>51.039</td>\n",
       "      <td>(31.79)</td>\n",
       "      <td>NaN</td>\n",
       "      <td>40.093</td>\n",
       "      <td>(25.69)</td>\n",
       "    </tr>\n",
       "    <tr>\n",
       "      <th>4</th>\n",
       "      <td>A006.jpg</td>\n",
       "      <td>27.544</td>\n",
       "      <td>(16.81)</td>\n",
       "      <td>NaN</td>\n",
       "      <td>67.897</td>\n",
       "      <td>(19.94)</td>\n",
       "      <td>NaN</td>\n",
       "      <td>22.595</td>\n",
       "      <td>(17.77)</td>\n",
       "      <td>NaN</td>\n",
       "      <td>31.435</td>\n",
       "      <td>(29.01)</td>\n",
       "    </tr>\n",
       "  </tbody>\n",
       "</table>\n",
       "</div>"
      ],
      "text/plain": [
       "  Unnamed: 0  Valence     (SD)  Unnamed: 3  Arousal   (SD).1  Unnamed: 6  \\\n",
       "0   A001.jpg    2.553   (5.43)         NaN   74.995  (22.06)         NaN   \n",
       "1   A002.jpg   45.698  (16.01)         NaN   56.948  (25.21)         NaN   \n",
       "2   A004.jpg   36.197  (25.63)         NaN   55.567  (30.98)         NaN   \n",
       "3   A005.jpg   43.439  (21.20)         NaN   48.905  (31.39)         NaN   \n",
       "4   A006.jpg   27.544  (16.81)         NaN   67.897  (19.94)         NaN   \n",
       "\n",
       "   Internal norms   (SD).2  Unnamed: 9  External norms   (SD).3  \n",
       "0          12.289  (29.83)         NaN          16.409  (31.96)  \n",
       "1          75.412  (25.49)         NaN          78.690  (22.93)  \n",
       "2          40.215  (40.99)         NaN          63.346  (42.37)  \n",
       "3          51.039  (31.79)         NaN          40.093  (25.69)  \n",
       "4          22.595  (17.77)         NaN          31.435  (29.01)  "
      ]
     },
     "execution_count": 8,
     "metadata": {},
     "output_type": "execute_result"
    }
   ],
   "source": [
    "#Check dataframe with standard deviations\n",
    "df_sd.head()"
   ]
  },
  {
   "cell_type": "markdown",
   "metadata": {},
   "source": [
    "Here, for the purpose of the project, I'm not really going to be working with the standard deviations. It only serves as an illustrative purpose for showing how each human emotion ratings associated with each image vary, even within the same types of images. This means that if any of the continuous numerical features were to be feature engineered into categorical values, the threshold for determining classes shouldn't be absolute, as scores are already varying within similar kinds of images. <br/>\n",
    "There won't be any further work done using the standard deviation dataframe from this point on."
   ]
  },
  {
   "cell_type": "code",
   "execution_count": 4,
   "metadata": {},
   "outputs": [],
   "source": [
    "#Load previously saved dataframe if already created\n",
    "df=pd.read_csv(data_path+'Study Results/Summary.csv')"
   ]
  },
  {
   "cell_type": "code",
   "execution_count": 9,
   "metadata": {},
   "outputs": [
    {
     "data": {
      "text/plain": [
       "(730, 5)"
      ]
     },
     "execution_count": 9,
     "metadata": {},
     "output_type": "execute_result"
    }
   ],
   "source": [
    "#Check shape of dataframe\n",
    "df.shape"
   ]
  },
  {
   "cell_type": "markdown",
   "metadata": {},
   "source": [
    "The shape of the dataframe indicates that there is a low sample size of only 730 images in the dataset. A small sample size may prove to be a problem later on as a model may easily overfit to the training data. The model may also not be able to learn enough features to make meaningful predictions if there is not enough training data.\n",
    "\n",
    "One solution would be to webscrape more images. However, since the scores associated with each image in the dataset was generated from human-inputs, images that are webscraped would not have those values. <br/>\n",
    "Another solution is to do image augmentation, such as flipping the images horizontal/vertical, doing rotations, zoom in/out, stretching the image, etc. <br/>\n",
    "If resources are available, it's possible to combine datasets that also have images with valence scores, with the current dataset.\n",
    "\n",
    "Due to the time constraint however, I did not have time to generate some more images, but this will be part of the next steps in improving the project in the future."
   ]
  },
  {
   "cell_type": "code",
   "execution_count": 10,
   "metadata": {
    "colab": {},
    "colab_type": "code",
    "id": "YWss8MRUz2g5"
   },
   "outputs": [
    {
     "name": "stdout",
     "output_type": "stream",
     "text": [
      "<class 'pandas.core.frame.DataFrame'>\n",
      "RangeIndex: 730 entries, 0 to 729\n",
      "Data columns (total 5 columns):\n",
      " #   Column          Non-Null Count  Dtype  \n",
      "---  ------          --------------  -----  \n",
      " 0   Unnamed: 0      730 non-null    object \n",
      " 1   Valence         730 non-null    float64\n",
      " 2   Arousal         730 non-null    float64\n",
      " 3   Internal norms  229 non-null    float64\n",
      " 4   External norms  229 non-null    float64\n",
      "dtypes: float64(4), object(1)\n",
      "memory usage: 28.6+ KB\n"
     ]
    }
   ],
   "source": [
    "#Check out information about the columns in the data\n",
    "df.info()"
   ]
  },
  {
   "cell_type": "markdown",
   "metadata": {},
   "source": [
    "Below lists what each numeric column is measuring:\n",
    "\n",
    "**Valence:** how negative to how positive the image was. 0 = very negative to 100 = very positive, with 50 = neutral.<br/>\n",
    "i.e: “You are judging this image as …”, from negative to positive. <br/>\n",
    "**Arousal:** degree of arousal elicited by the picture. <br/>\n",
    "i.e: “Confronted with this image you are feeling: …”, on two scales: from Calm to Excited, and from Stimulated to Relaxed. <br/>\n",
    "**Internal norms:** whether the contents of the picture were morally and ethically acceptable (only applicable to animal mistreatment and human rights violation images) <br/>\n",
    "**External norms:** whether the contents of the picture were legally acceptable (only applicable to animal mistreatment and human rights violation images)"
   ]
  },
  {
   "cell_type": "markdown",
   "metadata": {},
   "source": [
    "Straight off the bat, we can see that some columns have some null values in the data. To check how many nulls is in each column:"
   ]
  },
  {
   "cell_type": "code",
   "execution_count": 11,
   "metadata": {},
   "outputs": [
    {
     "data": {
      "text/plain": [
       "Unnamed: 0          0\n",
       "Valence             0\n",
       "Arousal             0\n",
       "Internal norms    501\n",
       "External norms    501\n",
       "dtype: int64"
      ]
     },
     "execution_count": 11,
     "metadata": {},
     "output_type": "execute_result"
    }
   ],
   "source": [
    "#Check how many nulls is in each column\n",
    "df.isna().sum()"
   ]
  },
  {
   "cell_type": "markdown",
   "metadata": {},
   "source": [
    "Though there are some nulls in the data, the purpose of this project will not be on those measures (internal norms and external norms), so there won't be any dataframe manipulation done to address the nulls. \n",
    "\n",
    "However, if later on there is interest in looking at those measures, I would create two datasets: one would be looking only at valence and arousal, which all the images have a rating for, while the other would be looking at only internal and external norms, which would contain only images that have those ratings. This avoids the problem of having to drop rows from one big dataset. Trying to fill in the nulls wouldn't work very well as there's more than half (501/730) of the images missing those values."
   ]
  },
  {
   "cell_type": "code",
   "execution_count": 12,
   "metadata": {},
   "outputs": [
    {
     "data": {
      "text/plain": [
       "0"
      ]
     },
     "execution_count": 12,
     "metadata": {},
     "output_type": "execute_result"
    }
   ],
   "source": [
    "#Check for duplicates\n",
    "df.duplicated().sum()"
   ]
  },
  {
   "cell_type": "markdown",
   "metadata": {},
   "source": [
    "No image have the same ratings, so we don't have to worry about removing images from the dataset."
   ]
  },
  {
   "cell_type": "code",
   "execution_count": 13,
   "metadata": {
    "colab": {},
    "colab_type": "code",
    "id": "TQw05mnxz2hD"
   },
   "outputs": [],
   "source": [
    "#Replacing unnamed column name to file for filename\n",
    "df=df.rename({'Unnamed: 0':'file'}, axis=1)"
   ]
  },
  {
   "cell_type": "code",
   "execution_count": 14,
   "metadata": {
    "colab": {},
    "colab_type": "code",
    "id": "3ki--BSFz2hH"
   },
   "outputs": [],
   "source": [
    "#The extensions of the images were saved as .bmp files\n",
    "df['file'] = df['file'].str.replace('.jpg','.bmp')"
   ]
  },
  {
   "cell_type": "markdown",
   "metadata": {},
   "source": [
    "The type of image in each valence category can be feature engineered into a column. However, the caveat with the neutral and positive category is that the types of images in those categories are not stated. \n",
    "Thus, it'll be unclear what specific type each image is in those categories, without a manual check and input of the type for each of those images. "
   ]
  },
  {
   "cell_type": "code",
   "execution_count": 15,
   "metadata": {},
   "outputs": [],
   "source": [
    "#Create a blank column\n",
    "df['image type']=''\n",
    "\n",
    "#Assign the image type based on image name\n",
    "for i in range(0,len(df)):\n",
    "    if 'A' in df.loc[i, 'file']: df.loc[i, 'image type']='Animal mistreatment'\n",
    "    elif 'H' in df.loc[i, 'file']: df.loc[i, 'image type']='Human rights violation'\n",
    "    elif 'Sn' in df.loc[i, 'file']: df.loc[i, 'image type']='Snake'\n",
    "    elif 'Sp' in df.loc[i, 'file']: df.loc[i, 'image type']='Spider'\n",
    "    elif 'N' in df.loc[i, 'file']: df.loc[i, 'image type']='Neutral'\n",
    "    else: df.loc[i, 'image type']='Positive'"
   ]
  },
  {
   "cell_type": "markdown",
   "metadata": {},
   "source": [
    "One thing that can be done is to feature engineer the valence scores into classes. Since the study explicity states what types of image fall under which emotional valence category, we can classify the images based on that knowledge rather than from the valence score itself."
   ]
  },
  {
   "cell_type": "code",
   "execution_count": 16,
   "metadata": {},
   "outputs": [],
   "source": [
    "#Create a blank column\n",
    "df['labeled valence category']=''\n",
    "#Assign class based on emotional valence category associated with each image\n",
    "for i in range(0,len(df)):\n",
    "    if df.loc[i, 'file'].startswith('P'): df.loc[i, 'labeled valence category']='Positive'\n",
    "    elif df.loc[i, 'file'].startswith('N'): df.loc[i, 'labeled valence category']='Neutral'\n",
    "    else: df.loc[i, 'labeled valence category']='Negative'"
   ]
  },
  {
   "cell_type": "code",
   "execution_count": 17,
   "metadata": {
    "colab": {
     "base_uri": "https://localhost:8080/",
     "height": 202
    },
    "colab_type": "code",
    "id": "qeoRZiUFz2g_",
    "outputId": "ddeac976-4181-4ad6-b254-0c32f55373ff"
   },
   "outputs": [
    {
     "data": {
      "text/html": [
       "<div>\n",
       "<style scoped>\n",
       "    .dataframe tbody tr th:only-of-type {\n",
       "        vertical-align: middle;\n",
       "    }\n",
       "\n",
       "    .dataframe tbody tr th {\n",
       "        vertical-align: top;\n",
       "    }\n",
       "\n",
       "    .dataframe thead th {\n",
       "        text-align: right;\n",
       "    }\n",
       "</style>\n",
       "<table border=\"1\" class=\"dataframe\">\n",
       "  <thead>\n",
       "    <tr style=\"text-align: right;\">\n",
       "      <th></th>\n",
       "      <th>file</th>\n",
       "      <th>Valence</th>\n",
       "      <th>Arousal</th>\n",
       "      <th>Internal norms</th>\n",
       "      <th>External norms</th>\n",
       "      <th>image type</th>\n",
       "      <th>labeled valence category</th>\n",
       "    </tr>\n",
       "  </thead>\n",
       "  <tbody>\n",
       "    <tr>\n",
       "      <th>0</th>\n",
       "      <td>A001.bmp</td>\n",
       "      <td>2.553</td>\n",
       "      <td>74.995</td>\n",
       "      <td>12.289429</td>\n",
       "      <td>16.409175</td>\n",
       "      <td>Animal mistreatment</td>\n",
       "      <td>Negative</td>\n",
       "    </tr>\n",
       "    <tr>\n",
       "      <th>1</th>\n",
       "      <td>A002.bmp</td>\n",
       "      <td>45.698</td>\n",
       "      <td>56.948</td>\n",
       "      <td>75.412445</td>\n",
       "      <td>78.690491</td>\n",
       "      <td>Animal mistreatment</td>\n",
       "      <td>Negative</td>\n",
       "    </tr>\n",
       "    <tr>\n",
       "      <th>2</th>\n",
       "      <td>A004.bmp</td>\n",
       "      <td>36.197</td>\n",
       "      <td>55.567</td>\n",
       "      <td>40.215111</td>\n",
       "      <td>63.345528</td>\n",
       "      <td>Animal mistreatment</td>\n",
       "      <td>Negative</td>\n",
       "    </tr>\n",
       "    <tr>\n",
       "      <th>3</th>\n",
       "      <td>A005.bmp</td>\n",
       "      <td>43.439</td>\n",
       "      <td>48.905</td>\n",
       "      <td>51.038688</td>\n",
       "      <td>40.093340</td>\n",
       "      <td>Animal mistreatment</td>\n",
       "      <td>Negative</td>\n",
       "    </tr>\n",
       "    <tr>\n",
       "      <th>4</th>\n",
       "      <td>A006.bmp</td>\n",
       "      <td>27.544</td>\n",
       "      <td>67.897</td>\n",
       "      <td>22.594799</td>\n",
       "      <td>31.434631</td>\n",
       "      <td>Animal mistreatment</td>\n",
       "      <td>Negative</td>\n",
       "    </tr>\n",
       "  </tbody>\n",
       "</table>\n",
       "</div>"
      ],
      "text/plain": [
       "       file  Valence  Arousal  Internal norms  External norms  \\\n",
       "0  A001.bmp    2.553   74.995       12.289429       16.409175   \n",
       "1  A002.bmp   45.698   56.948       75.412445       78.690491   \n",
       "2  A004.bmp   36.197   55.567       40.215111       63.345528   \n",
       "3  A005.bmp   43.439   48.905       51.038688       40.093340   \n",
       "4  A006.bmp   27.544   67.897       22.594799       31.434631   \n",
       "\n",
       "            image type labeled valence category  \n",
       "0  Animal mistreatment                 Negative  \n",
       "1  Animal mistreatment                 Negative  \n",
       "2  Animal mistreatment                 Negative  \n",
       "3  Animal mistreatment                 Negative  \n",
       "4  Animal mistreatment                 Negative  "
      ]
     },
     "execution_count": 17,
     "metadata": {},
     "output_type": "execute_result"
    }
   ],
   "source": [
    "df.head()"
   ]
  },
  {
   "cell_type": "code",
   "execution_count": 18,
   "metadata": {},
   "outputs": [
    {
     "data": {
      "text/plain": [
       "Negative    520\n",
       "Positive    121\n",
       "Neutral      89\n",
       "Name: labeled valence category, dtype: int64"
      ]
     },
     "execution_count": 18,
     "metadata": {},
     "output_type": "execute_result"
    }
   ],
   "source": [
    "#Check how many images are in each category\n",
    "df['labeled valence category'].value_counts()"
   ]
  },
  {
   "cell_type": "markdown",
   "metadata": {},
   "source": [
    "We can see from the data that there is a big class imbalance between the negative set of images compared to positive and neutral images. This means that the model is going to start predicting images as having more negative valence scores, or classify more images as negative than positive or neutral. This is because the model will have learned more about negative images than other types of images. <br/>\n",
    "One way to avoid this problem is to oversample the positive and neutral images, while undersampling the negative images. This would be after generating more images of course, as there's still only 730 images right now. This will be something to be implemented in the next steps of the project."
   ]
  },
  {
   "cell_type": "code",
   "execution_count": 19,
   "metadata": {
    "scrolled": true
   },
   "outputs": [
    {
     "name": "stdout",
     "output_type": "stream",
     "text": [
      "Shape of A: (124, 5) \n",
      " Shape of H: (105, 5) \n",
      " Shape of N: (89, 3) \n",
      " Shape of P: (121, 3) \n",
      " Shape of Sn: (133, 3) \n",
      " Shape of Sp: (158, 3)\n"
     ]
    }
   ],
   "source": [
    "#Check size of the subset of images in each category\n",
    "print(f'Shape of A: {A.shape} \\n Shape of H: {H.shape} \\n Shape of N: {N.shape} \\n Shape of P: {P.shape} \\n Shape of Sn: {Sn.shape} \\n Shape of Sp: {Sp.shape}')"
   ]
  },
  {
   "cell_type": "markdown",
   "metadata": {},
   "source": [
    "Something to note is that even among the subset of images, the sample size is not consistent across each subset. This can lead the model becoming better at predicting one type of image compared to others. "
   ]
  },
  {
   "cell_type": "markdown",
   "metadata": {},
   "source": [
    "We can also look at the number of images by valence interval. Although a valence score of 0-49 is considered negative, 50 considered neutral, and 51-100 considered positive, all the image scores have some standard deviation. Thus, there's likely not going to be many images that have an exact score of 50 for example. It may be beneficial then, to look within intervals to see how many images are actually classified based on the interval range it's in.\n",
    "\n",
    "Since the range of valence score is from 0-100, we can do 10 bins, with intervals of 10 every bin."
   ]
  },
  {
   "cell_type": "code",
   "execution_count": 8,
   "metadata": {
    "scrolled": true
   },
   "outputs": [
    {
     "data": {
      "text/html": [
       "<div>\n",
       "<style scoped>\n",
       "    .dataframe tbody tr th:only-of-type {\n",
       "        vertical-align: middle;\n",
       "    }\n",
       "\n",
       "    .dataframe tbody tr th {\n",
       "        vertical-align: top;\n",
       "    }\n",
       "\n",
       "    .dataframe thead th {\n",
       "        text-align: right;\n",
       "    }\n",
       "</style>\n",
       "<table border=\"1\" class=\"dataframe\">\n",
       "  <thead>\n",
       "    <tr style=\"text-align: right;\">\n",
       "      <th></th>\n",
       "      <th></th>\n",
       "      <th>file</th>\n",
       "      <th>Valence</th>\n",
       "      <th>Arousal</th>\n",
       "      <th>Internal norms</th>\n",
       "      <th>External norms</th>\n",
       "      <th>image type</th>\n",
       "      <th>calculated valence category</th>\n",
       "    </tr>\n",
       "    <tr>\n",
       "      <th>labeled valence category</th>\n",
       "      <th>Valence</th>\n",
       "      <th></th>\n",
       "      <th></th>\n",
       "      <th></th>\n",
       "      <th></th>\n",
       "      <th></th>\n",
       "      <th></th>\n",
       "      <th></th>\n",
       "    </tr>\n",
       "  </thead>\n",
       "  <tbody>\n",
       "    <tr>\n",
       "      <th rowspan=\"10\" valign=\"top\">Negative</th>\n",
       "      <th>(0, 10]</th>\n",
       "      <td>39.0</td>\n",
       "      <td>39.0</td>\n",
       "      <td>39.0</td>\n",
       "      <td>38.0</td>\n",
       "      <td>38.0</td>\n",
       "      <td>39.0</td>\n",
       "      <td>39.0</td>\n",
       "    </tr>\n",
       "    <tr>\n",
       "      <th>(10, 20]</th>\n",
       "      <td>95.0</td>\n",
       "      <td>95.0</td>\n",
       "      <td>95.0</td>\n",
       "      <td>71.0</td>\n",
       "      <td>71.0</td>\n",
       "      <td>95.0</td>\n",
       "      <td>95.0</td>\n",
       "    </tr>\n",
       "    <tr>\n",
       "      <th>(20, 30]</th>\n",
       "      <td>84.0</td>\n",
       "      <td>84.0</td>\n",
       "      <td>84.0</td>\n",
       "      <td>44.0</td>\n",
       "      <td>44.0</td>\n",
       "      <td>84.0</td>\n",
       "      <td>84.0</td>\n",
       "    </tr>\n",
       "    <tr>\n",
       "      <th>(30, 40]</th>\n",
       "      <td>132.0</td>\n",
       "      <td>132.0</td>\n",
       "      <td>132.0</td>\n",
       "      <td>31.0</td>\n",
       "      <td>31.0</td>\n",
       "      <td>132.0</td>\n",
       "      <td>132.0</td>\n",
       "    </tr>\n",
       "    <tr>\n",
       "      <th>(40, 50]</th>\n",
       "      <td>96.0</td>\n",
       "      <td>96.0</td>\n",
       "      <td>96.0</td>\n",
       "      <td>31.0</td>\n",
       "      <td>31.0</td>\n",
       "      <td>96.0</td>\n",
       "      <td>96.0</td>\n",
       "    </tr>\n",
       "    <tr>\n",
       "      <th>(50, 60]</th>\n",
       "      <td>71.0</td>\n",
       "      <td>71.0</td>\n",
       "      <td>71.0</td>\n",
       "      <td>13.0</td>\n",
       "      <td>13.0</td>\n",
       "      <td>71.0</td>\n",
       "      <td>71.0</td>\n",
       "    </tr>\n",
       "    <tr>\n",
       "      <th>(60, 70]</th>\n",
       "      <td>3.0</td>\n",
       "      <td>3.0</td>\n",
       "      <td>3.0</td>\n",
       "      <td>1.0</td>\n",
       "      <td>1.0</td>\n",
       "      <td>3.0</td>\n",
       "      <td>3.0</td>\n",
       "    </tr>\n",
       "    <tr>\n",
       "      <th>(70, 80]</th>\n",
       "      <td>NaN</td>\n",
       "      <td>NaN</td>\n",
       "      <td>NaN</td>\n",
       "      <td>NaN</td>\n",
       "      <td>NaN</td>\n",
       "      <td>NaN</td>\n",
       "      <td>NaN</td>\n",
       "    </tr>\n",
       "    <tr>\n",
       "      <th>(80, 90]</th>\n",
       "      <td>NaN</td>\n",
       "      <td>NaN</td>\n",
       "      <td>NaN</td>\n",
       "      <td>NaN</td>\n",
       "      <td>NaN</td>\n",
       "      <td>NaN</td>\n",
       "      <td>NaN</td>\n",
       "    </tr>\n",
       "    <tr>\n",
       "      <th>(90, 100]</th>\n",
       "      <td>NaN</td>\n",
       "      <td>NaN</td>\n",
       "      <td>NaN</td>\n",
       "      <td>NaN</td>\n",
       "      <td>NaN</td>\n",
       "      <td>NaN</td>\n",
       "      <td>NaN</td>\n",
       "    </tr>\n",
       "    <tr>\n",
       "      <th rowspan=\"10\" valign=\"top\">Neutral</th>\n",
       "      <th>(0, 10]</th>\n",
       "      <td>NaN</td>\n",
       "      <td>NaN</td>\n",
       "      <td>NaN</td>\n",
       "      <td>NaN</td>\n",
       "      <td>NaN</td>\n",
       "      <td>NaN</td>\n",
       "      <td>NaN</td>\n",
       "    </tr>\n",
       "    <tr>\n",
       "      <th>(10, 20]</th>\n",
       "      <td>NaN</td>\n",
       "      <td>NaN</td>\n",
       "      <td>NaN</td>\n",
       "      <td>NaN</td>\n",
       "      <td>NaN</td>\n",
       "      <td>NaN</td>\n",
       "      <td>NaN</td>\n",
       "    </tr>\n",
       "    <tr>\n",
       "      <th>(20, 30]</th>\n",
       "      <td>NaN</td>\n",
       "      <td>NaN</td>\n",
       "      <td>NaN</td>\n",
       "      <td>NaN</td>\n",
       "      <td>NaN</td>\n",
       "      <td>NaN</td>\n",
       "      <td>NaN</td>\n",
       "    </tr>\n",
       "    <tr>\n",
       "      <th>(30, 40]</th>\n",
       "      <td>NaN</td>\n",
       "      <td>NaN</td>\n",
       "      <td>NaN</td>\n",
       "      <td>NaN</td>\n",
       "      <td>NaN</td>\n",
       "      <td>NaN</td>\n",
       "      <td>NaN</td>\n",
       "    </tr>\n",
       "    <tr>\n",
       "      <th>(40, 50]</th>\n",
       "      <td>14.0</td>\n",
       "      <td>14.0</td>\n",
       "      <td>14.0</td>\n",
       "      <td>0.0</td>\n",
       "      <td>0.0</td>\n",
       "      <td>14.0</td>\n",
       "      <td>14.0</td>\n",
       "    </tr>\n",
       "    <tr>\n",
       "      <th>(50, 60]</th>\n",
       "      <td>52.0</td>\n",
       "      <td>52.0</td>\n",
       "      <td>52.0</td>\n",
       "      <td>0.0</td>\n",
       "      <td>0.0</td>\n",
       "      <td>52.0</td>\n",
       "      <td>52.0</td>\n",
       "    </tr>\n",
       "    <tr>\n",
       "      <th>(60, 70]</th>\n",
       "      <td>23.0</td>\n",
       "      <td>23.0</td>\n",
       "      <td>23.0</td>\n",
       "      <td>0.0</td>\n",
       "      <td>0.0</td>\n",
       "      <td>23.0</td>\n",
       "      <td>23.0</td>\n",
       "    </tr>\n",
       "    <tr>\n",
       "      <th>(70, 80]</th>\n",
       "      <td>NaN</td>\n",
       "      <td>NaN</td>\n",
       "      <td>NaN</td>\n",
       "      <td>NaN</td>\n",
       "      <td>NaN</td>\n",
       "      <td>NaN</td>\n",
       "      <td>NaN</td>\n",
       "    </tr>\n",
       "    <tr>\n",
       "      <th>(80, 90]</th>\n",
       "      <td>NaN</td>\n",
       "      <td>NaN</td>\n",
       "      <td>NaN</td>\n",
       "      <td>NaN</td>\n",
       "      <td>NaN</td>\n",
       "      <td>NaN</td>\n",
       "      <td>NaN</td>\n",
       "    </tr>\n",
       "    <tr>\n",
       "      <th>(90, 100]</th>\n",
       "      <td>NaN</td>\n",
       "      <td>NaN</td>\n",
       "      <td>NaN</td>\n",
       "      <td>NaN</td>\n",
       "      <td>NaN</td>\n",
       "      <td>NaN</td>\n",
       "      <td>NaN</td>\n",
       "    </tr>\n",
       "    <tr>\n",
       "      <th rowspan=\"10\" valign=\"top\">Positive</th>\n",
       "      <th>(0, 10]</th>\n",
       "      <td>NaN</td>\n",
       "      <td>NaN</td>\n",
       "      <td>NaN</td>\n",
       "      <td>NaN</td>\n",
       "      <td>NaN</td>\n",
       "      <td>NaN</td>\n",
       "      <td>NaN</td>\n",
       "    </tr>\n",
       "    <tr>\n",
       "      <th>(10, 20]</th>\n",
       "      <td>NaN</td>\n",
       "      <td>NaN</td>\n",
       "      <td>NaN</td>\n",
       "      <td>NaN</td>\n",
       "      <td>NaN</td>\n",
       "      <td>NaN</td>\n",
       "      <td>NaN</td>\n",
       "    </tr>\n",
       "    <tr>\n",
       "      <th>(20, 30]</th>\n",
       "      <td>NaN</td>\n",
       "      <td>NaN</td>\n",
       "      <td>NaN</td>\n",
       "      <td>NaN</td>\n",
       "      <td>NaN</td>\n",
       "      <td>NaN</td>\n",
       "      <td>NaN</td>\n",
       "    </tr>\n",
       "    <tr>\n",
       "      <th>(30, 40]</th>\n",
       "      <td>NaN</td>\n",
       "      <td>NaN</td>\n",
       "      <td>NaN</td>\n",
       "      <td>NaN</td>\n",
       "      <td>NaN</td>\n",
       "      <td>NaN</td>\n",
       "      <td>NaN</td>\n",
       "    </tr>\n",
       "    <tr>\n",
       "      <th>(40, 50]</th>\n",
       "      <td>NaN</td>\n",
       "      <td>NaN</td>\n",
       "      <td>NaN</td>\n",
       "      <td>NaN</td>\n",
       "      <td>NaN</td>\n",
       "      <td>NaN</td>\n",
       "      <td>NaN</td>\n",
       "    </tr>\n",
       "    <tr>\n",
       "      <th>(50, 60]</th>\n",
       "      <td>NaN</td>\n",
       "      <td>NaN</td>\n",
       "      <td>NaN</td>\n",
       "      <td>NaN</td>\n",
       "      <td>NaN</td>\n",
       "      <td>NaN</td>\n",
       "      <td>NaN</td>\n",
       "    </tr>\n",
       "    <tr>\n",
       "      <th>(60, 70]</th>\n",
       "      <td>NaN</td>\n",
       "      <td>NaN</td>\n",
       "      <td>NaN</td>\n",
       "      <td>NaN</td>\n",
       "      <td>NaN</td>\n",
       "      <td>NaN</td>\n",
       "      <td>NaN</td>\n",
       "    </tr>\n",
       "    <tr>\n",
       "      <th>(70, 80]</th>\n",
       "      <td>13.0</td>\n",
       "      <td>13.0</td>\n",
       "      <td>13.0</td>\n",
       "      <td>0.0</td>\n",
       "      <td>0.0</td>\n",
       "      <td>13.0</td>\n",
       "      <td>13.0</td>\n",
       "    </tr>\n",
       "    <tr>\n",
       "      <th>(80, 90]</th>\n",
       "      <td>37.0</td>\n",
       "      <td>37.0</td>\n",
       "      <td>37.0</td>\n",
       "      <td>0.0</td>\n",
       "      <td>0.0</td>\n",
       "      <td>37.0</td>\n",
       "      <td>37.0</td>\n",
       "    </tr>\n",
       "    <tr>\n",
       "      <th>(90, 100]</th>\n",
       "      <td>71.0</td>\n",
       "      <td>71.0</td>\n",
       "      <td>71.0</td>\n",
       "      <td>0.0</td>\n",
       "      <td>0.0</td>\n",
       "      <td>71.0</td>\n",
       "      <td>71.0</td>\n",
       "    </tr>\n",
       "  </tbody>\n",
       "</table>\n",
       "</div>"
      ],
      "text/plain": [
       "                                     file  Valence  Arousal  Internal norms  \\\n",
       "labeled valence category Valence                                              \n",
       "Negative                 (0, 10]     39.0     39.0     39.0            38.0   \n",
       "                         (10, 20]    95.0     95.0     95.0            71.0   \n",
       "                         (20, 30]    84.0     84.0     84.0            44.0   \n",
       "                         (30, 40]   132.0    132.0    132.0            31.0   \n",
       "                         (40, 50]    96.0     96.0     96.0            31.0   \n",
       "                         (50, 60]    71.0     71.0     71.0            13.0   \n",
       "                         (60, 70]     3.0      3.0      3.0             1.0   \n",
       "                         (70, 80]     NaN      NaN      NaN             NaN   \n",
       "                         (80, 90]     NaN      NaN      NaN             NaN   \n",
       "                         (90, 100]    NaN      NaN      NaN             NaN   \n",
       "Neutral                  (0, 10]      NaN      NaN      NaN             NaN   \n",
       "                         (10, 20]     NaN      NaN      NaN             NaN   \n",
       "                         (20, 30]     NaN      NaN      NaN             NaN   \n",
       "                         (30, 40]     NaN      NaN      NaN             NaN   \n",
       "                         (40, 50]    14.0     14.0     14.0             0.0   \n",
       "                         (50, 60]    52.0     52.0     52.0             0.0   \n",
       "                         (60, 70]    23.0     23.0     23.0             0.0   \n",
       "                         (70, 80]     NaN      NaN      NaN             NaN   \n",
       "                         (80, 90]     NaN      NaN      NaN             NaN   \n",
       "                         (90, 100]    NaN      NaN      NaN             NaN   \n",
       "Positive                 (0, 10]      NaN      NaN      NaN             NaN   \n",
       "                         (10, 20]     NaN      NaN      NaN             NaN   \n",
       "                         (20, 30]     NaN      NaN      NaN             NaN   \n",
       "                         (30, 40]     NaN      NaN      NaN             NaN   \n",
       "                         (40, 50]     NaN      NaN      NaN             NaN   \n",
       "                         (50, 60]     NaN      NaN      NaN             NaN   \n",
       "                         (60, 70]     NaN      NaN      NaN             NaN   \n",
       "                         (70, 80]    13.0     13.0     13.0             0.0   \n",
       "                         (80, 90]    37.0     37.0     37.0             0.0   \n",
       "                         (90, 100]   71.0     71.0     71.0             0.0   \n",
       "\n",
       "                                    External norms  image type  \\\n",
       "labeled valence category Valence                                 \n",
       "Negative                 (0, 10]              38.0        39.0   \n",
       "                         (10, 20]             71.0        95.0   \n",
       "                         (20, 30]             44.0        84.0   \n",
       "                         (30, 40]             31.0       132.0   \n",
       "                         (40, 50]             31.0        96.0   \n",
       "                         (50, 60]             13.0        71.0   \n",
       "                         (60, 70]              1.0         3.0   \n",
       "                         (70, 80]              NaN         NaN   \n",
       "                         (80, 90]              NaN         NaN   \n",
       "                         (90, 100]             NaN         NaN   \n",
       "Neutral                  (0, 10]               NaN         NaN   \n",
       "                         (10, 20]              NaN         NaN   \n",
       "                         (20, 30]              NaN         NaN   \n",
       "                         (30, 40]              NaN         NaN   \n",
       "                         (40, 50]              0.0        14.0   \n",
       "                         (50, 60]              0.0        52.0   \n",
       "                         (60, 70]              0.0        23.0   \n",
       "                         (70, 80]              NaN         NaN   \n",
       "                         (80, 90]              NaN         NaN   \n",
       "                         (90, 100]             NaN         NaN   \n",
       "Positive                 (0, 10]               NaN         NaN   \n",
       "                         (10, 20]              NaN         NaN   \n",
       "                         (20, 30]              NaN         NaN   \n",
       "                         (30, 40]              NaN         NaN   \n",
       "                         (40, 50]              NaN         NaN   \n",
       "                         (50, 60]              NaN         NaN   \n",
       "                         (60, 70]              NaN         NaN   \n",
       "                         (70, 80]              0.0        13.0   \n",
       "                         (80, 90]              0.0        37.0   \n",
       "                         (90, 100]             0.0        71.0   \n",
       "\n",
       "                                    calculated valence category  \n",
       "labeled valence category Valence                                 \n",
       "Negative                 (0, 10]                           39.0  \n",
       "                         (10, 20]                          95.0  \n",
       "                         (20, 30]                          84.0  \n",
       "                         (30, 40]                         132.0  \n",
       "                         (40, 50]                          96.0  \n",
       "                         (50, 60]                          71.0  \n",
       "                         (60, 70]                           3.0  \n",
       "                         (70, 80]                           NaN  \n",
       "                         (80, 90]                           NaN  \n",
       "                         (90, 100]                          NaN  \n",
       "Neutral                  (0, 10]                            NaN  \n",
       "                         (10, 20]                           NaN  \n",
       "                         (20, 30]                           NaN  \n",
       "                         (30, 40]                           NaN  \n",
       "                         (40, 50]                          14.0  \n",
       "                         (50, 60]                          52.0  \n",
       "                         (60, 70]                          23.0  \n",
       "                         (70, 80]                           NaN  \n",
       "                         (80, 90]                           NaN  \n",
       "                         (90, 100]                          NaN  \n",
       "Positive                 (0, 10]                            NaN  \n",
       "                         (10, 20]                           NaN  \n",
       "                         (20, 30]                           NaN  \n",
       "                         (30, 40]                           NaN  \n",
       "                         (40, 50]                           NaN  \n",
       "                         (50, 60]                           NaN  \n",
       "                         (60, 70]                           NaN  \n",
       "                         (70, 80]                          13.0  \n",
       "                         (80, 90]                          37.0  \n",
       "                         (90, 100]                         71.0  "
      ]
     },
     "execution_count": 8,
     "metadata": {},
     "output_type": "execute_result"
    }
   ],
   "source": [
    "#First, we need to break the Valence column into intervals, which can be done by using pd.cut, and passing in the bins we want\n",
    "valence_interval=pd.cut(df['Valence'], bins=[0,10,20,30,40,50,60,70,80,90,100])\n",
    "\n",
    "#Next, we can group the data by the classes and the valence intervals, and get a count for each class within each interval \n",
    "#Which will return a multi-index dataframe\n",
    "temp_df=df.groupby(['labeled valence category', valence_interval]).count()\n",
    "temp_df"
   ]
  },
  {
   "cell_type": "markdown",
   "metadata": {},
   "source": [
    "**Plot the classes based on interval:**"
   ]
  },
  {
   "cell_type": "code",
   "execution_count": 21,
   "metadata": {},
   "outputs": [
    {
     "data": {
      "text/plain": [
       "<Figure size 432x288 with 0 Axes>"
      ]
     },
     "metadata": {},
     "output_type": "display_data"
    },
    {
     "data": {
      "image/png": "[encoded data removed]",
      "text/plain": [
       "<Figure size 432x288 with 1 Axes>"
      ]
     },
     "metadata": {
      "needs_background": "light"
     },
     "output_type": "display_data"
    }
   ],
   "source": [
    "plt.figure()\n",
    "#To plot multi-index dataframes, unstack can be used to plot one index with another\n",
    "#Pass in the Valence column since that's the column of interest\n",
    "a=temp_df['Valence'].unstack(level=0).plot(kind='bar')\n",
    "plt.xlabel('Valence Interval')\n",
    "plt.ylabel('Count')\n",
    "#plt.savefig(img_path+'Results/Class In Intervals.jpg', bbox_inches='tight')\n",
    "plt.show()"
   ]
  },
  {
   "cell_type": "markdown",
   "metadata": {},
   "source": [
    "Here, we can see that if the images were classified based on some hard threshold, some images would've been misclassified. In the study, the researchers mentioned that they had removed outliers based on standard deviations in valence ratings, but some images still seem to not match what was expected.<br/>\n",
    "For example, around 70 negative images were rated between 50-60 valence score, which would be considered neutral.\n",
    "\n",
    "The distributions of the negative and positive class also seem strange. If 0-50 and 51-100 (exclusive) are the intervals for negative and positive valence, one would expect more images around 25 and 75 respectively. However, the distribution for negative images tend to be centered around 30-40, while positive images are distributed around the right tail [90-100] of the range. There are also no positive images rated between 50-70. <br/>\n",
    "\n",
    "What all this suggest is that there needs to be better quality check of the images that end up in the dataset. Although this is hard to control, considering people interpret images differently, there needs to be more images with diverse scores within each class; e.g.: positive images that aren't that positive. <br/>\n",
    "The imbalanced distribution may also be due to having a small dataset. Based on the central limit theorem, the distribution of each class should even out with more images. However, given that webscraping is not a great option here, the only way to increase the dataset in the same way the ratings were measured, is to have people rate more images. Image augmentation would not address the score distribution, since scores remain the same across augmented images. Unless images of specific scores are targeted, the score distribution would still remain the same. Image augmentation can still be done to address the class imbalance however."
   ]
  },
  {
   "cell_type": "markdown",
   "metadata": {},
   "source": [
    "The calculated valence category based on a hard threshold can be added to the dataframe to give a sense of true and false positives/negatives for each valence category. However, given that emotion ratings are so subjective, it's unclear whether the labeled or the calculated valence category should be considered the true valence category."
   ]
  },
  {
   "cell_type": "code",
   "execution_count": 22,
   "metadata": {},
   "outputs": [],
   "source": [
    "#Create a blank column\n",
    "df['calculated valence category']=''\n",
    "\n",
    "#Assign class based on valence rating for each image\n",
    "for i in range(0,len(df)):\n",
    "    if df.loc[i, 'Valence'] > 50: df.loc[i, 'calculated valence category']='Positive'\n",
    "    elif df.loc[i, 'Valence'] < 50: df.loc[i, 'calculated valence category']='Negative'\n",
    "    else: df.loc[i, 'calculated valence category']='Neutral'"
   ]
  },
  {
   "cell_type": "code",
   "execution_count": 23,
   "metadata": {},
   "outputs": [
    {
     "data": {
      "image/png": "[encoded data removed]",
      "text/plain": [
       "<Figure size 432x288 with 1 Axes>"
      ]
     },
     "metadata": {
      "needs_background": "light"
     },
     "output_type": "display_data"
    }
   ],
   "source": [
    "#Plot the valence X arousal space\n",
    "plt.figure()\n",
    "plt.scatter(df['Valence'], df['Arousal'])\n",
    "plt.xlabel('Valence')\n",
    "plt.ylabel('Arousal')\n",
    "#plt.savefig(img_path+'Results/.jpg', bbox_inches='tight')\n",
    "plt.show()"
   ]
  },
  {
   "cell_type": "code",
   "execution_count": 24,
   "metadata": {},
   "outputs": [
    {
     "data": {
      "image/png": "[encoded data removed]",
      "text/plain": [
       "<Figure size 432x288 with 1 Axes>"
      ]
     },
     "metadata": {
      "needs_background": "light"
     },
     "output_type": "display_data"
    }
   ],
   "source": [
    "#Plot the distribution of valence ratings as a whole\n",
    "plt.figure()\n",
    "plt.hist(df['Valence'])\n",
    "plt.xlabel('Valence Interval')\n",
    "plt.ylabel('Count')\n",
    "#plt.savefig(img_path+'Results/.jpg', bbox_inches='tight')\n",
    "plt.show()"
   ]
  },
  {
   "cell_type": "code",
   "execution_count": 25,
   "metadata": {},
   "outputs": [
    {
     "data": {
      "image/png": "[encoded data removed]",
      "text/plain": [
       "<Figure size 432x288 with 1 Axes>"
      ]
     },
     "metadata": {
      "needs_background": "light"
     },
     "output_type": "display_data"
    }
   ],
   "source": [
    "#Plot the internal X external norms space\n",
    "plt.figure()\n",
    "plt.scatter(df['Internal norms'], df['External norms'])\n",
    "plt.xlabel('Internal Norms')\n",
    "plt.ylabel('External Norms')\n",
    "#plt.savefig(img_path+'Results/Class In Intervals.jpg', bbox_inches='tight')\n",
    "plt.show()"
   ]
  },
  {
   "cell_type": "markdown",
   "metadata": {},
   "source": [
    "We can look at the range valence scores in each class directly to see how differently images under the same category are being rated."
   ]
  },
  {
   "cell_type": "code",
   "execution_count": 26,
   "metadata": {},
   "outputs": [
    {
     "name": "stdout",
     "output_type": "stream",
     "text": [
      "Negative range: 0.414 - 63.66 \n",
      " Neutral range: 40.953 - 68.85 \n",
      " Positive range: 71.86 - 98.73700000000001\n"
     ]
    }
   ],
   "source": [
    "#Group the dataframe by the labeled valence category, then call on the Valence column to get the score associated with each class\n",
    "#To get the range of each class, find the minimum and maximum of the valence score within each class\n",
    "#To call on a specific class, slice the minimum and maximum scores on what class you want to look at\n",
    "print('Negative range:', df.groupby(['labeled valence category'])['Valence'].min()['Negative'],\n",
    "      '-',df.groupby(['labeled valence category'])['Valence'].max()['Negative'], '\\n',\n",
    "     'Neutral range:', df.groupby(['labeled valence category'])['Valence'].min()['Neutral'],\n",
    "      '-',df.groupby(['labeled valence category'])['Valence'].max()['Neutral'], '\\n',\n",
    "     'Positive range:', df.groupby(['labeled valence category'])['Valence'].min()['Positive'],\n",
    "      '-',df.groupby(['labeled valence category'])['Valence'].max()['Positive'])"
   ]
  },
  {
   "cell_type": "markdown",
   "metadata": {},
   "source": [
    "Although it seems like a good idea to remove the images that do not fall under the right class based on the valence score, given that the dataset is already very small, it's may be more beneficial to leave the images in. It could be difficult to find open image datasets that have human emotion ratings. "
   ]
  },
  {
   "cell_type": "code",
   "execution_count": 27,
   "metadata": {
    "colab": {},
    "colab_type": "code",
    "id": "wdecfYt4KyMu"
   },
   "outputs": [],
   "source": [
    "#Save results to a csv file to prevent the need to run dataframe manipulation steps every time\n",
    "df.to_csv(data_path+'Study Results/Summary.csv', index=False)"
   ]
  }
 ],
 "metadata": {
  "kernelspec": {
   "display_name": "deeplearning",
   "language": "python",
   "name": "deeplearning"
  },
  "language_info": {
   "codemirror_mode": {
    "name": "ipython",
    "version": 3
   },
   "file_extension": ".py",
   "mimetype": "text/x-python",
   "name": "python",
   "nbconvert_exporter": "python",
   "pygments_lexer": "ipython3",
   "version": "3.7.7"
  }
 },
 "nbformat": 4,
 "nbformat_minor": 4
}
