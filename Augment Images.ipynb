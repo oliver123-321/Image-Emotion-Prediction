{
 "cells": [
  {
   "cell_type": "code",
   "execution_count": 1,
   "metadata": {},
   "outputs": [],
   "source": [
    "#Import packges\n",
    "from tensorflow.keras.preprocessing import image\n",
    "from tensorflow.keras.preprocessing.image import ImageDataGenerator\n",
    "import os\n",
    "import pandas as pd"
   ]
  },
  {
   "cell_type": "code",
   "execution_count": 2,
   "metadata": {},
   "outputs": [],
   "source": [
    "#Save data path to a variable\n",
    "data_path='../Data/'\n",
    "train_path=data_path+'train/'\n",
    "test_path=data_path+'test/'"
   ]
  },
  {
   "cell_type": "code",
   "execution_count": 57,
   "metadata": {},
   "outputs": [],
   "source": [
    "#Load dataset containing study results\n",
    "df=pd.read_csv(data_path+'Study Results/Summary.csv')"
   ]
  },
  {
   "cell_type": "code",
   "execution_count": 64,
   "metadata": {},
   "outputs": [],
   "source": [
    "#Separate the dataset into train and test set based on the images in each set\n",
    "\n",
    "#Create a dataframe to store results\n",
    "train_df=pd.DataFrame()\n",
    "#Go through each subdirectory in the train folder\n",
    "for category in os.listdir(train_path):\n",
    "    #Find all rows from the original dataframe, that contain the filename of images in the folder,\n",
    "    #And combine it with the train dataframe\n",
    "    train_df=pd.concat([train_df,(df[df['file'].isin(os.listdir(train_path+category))])])\n",
    "train_df.reset_index(drop=True, inplace=True)\n",
    "\n",
    "#Repeat the same as above for the test set\n",
    "test_df=pd.DataFrame()\n",
    "for category in os.listdir(test_path):\n",
    "    test_df=pd.concat([test_df,(df[df['file'].isin(os.listdir(test_path+category))])])\n",
    "test_df.reset_index(drop=True, inplace=True)"
   ]
  },
  {
   "cell_type": "code",
   "execution_count": 11,
   "metadata": {},
   "outputs": [],
   "source": [
    "#Get the number of files that are in each subdirectory of the train and test folders\n",
    "train_neg_len=len(os.listdir(train_path+'Negative'))\n",
    "train_neut_len=len(os.listdir(train_path+'Neutral'))\n",
    "train_pos_len=len(os.listdir(train_path+'Positive'))\n",
    "\n",
    "test_neg_len=len(os.listdir(test_path+'Negative'))\n",
    "test_neut_len=len(os.listdir(test_path+'Neutral'))\n",
    "test_pos_len=len(os.listdir(test_path+'Positive'))\n",
    "\n",
    "train_len=train_neg_len+train_neut_len+train_pos_len\n",
    "test_len=test_neg_len+test_neut_len+test_pos_len"
   ]
  },
  {
   "cell_type": "markdown",
   "metadata": {},
   "source": [
    "One thing that is important is to find the order that the subdirectories of the train and test set are in, because images will be moved based on that order."
   ]
  },
  {
   "cell_type": "code",
   "execution_count": 67,
   "metadata": {},
   "outputs": [
    {
     "name": "stdout",
     "output_type": "stream",
     "text": [
      "Order of train picture category: ['Negative', 'Neutral', 'Positive']\n",
      "Order of test picture category: ['Negative', 'Neutral', 'Positive']\n"
     ]
    }
   ],
   "source": [
    "#Find the order of subdirectories in train and test folder\n",
    "print('Order of train picture category:', os.listdir(train_path))\n",
    "print('Order of test picture category:', os.listdir(test_path))"
   ]
  },
  {
   "cell_type": "code",
   "execution_count": 12,
   "metadata": {},
   "outputs": [
    {
     "name": "stdout",
     "output_type": "stream",
     "text": [
      "# of train pictures:  585\n",
      "Train: # of negative pics: 416 , neutral pics: 72 , positive pics: 97\n",
      "# of test pictures:  145\n",
      "Test: # of negative pics: 104 , neutral pics: 17 , positive pics: 24\n"
     ]
    }
   ],
   "source": [
    "print(\"# of train pictures: \",train_len)\n",
    "print(\"Train: # of negative pics:\",train_neg_len,\", neutral pics:\",train_neut_len,\", positive pics:\",train_pos_len)\n",
    "print(\"# of test pictures: \",test_len)\n",
    "print(\"Test: # of negative pics:\",test_neg_len,\", neutral pics:\",test_neut_len,\", positive pics:\",test_pos_len)"
   ]
  },
  {
   "cell_type": "code",
   "execution_count": 41,
   "metadata": {},
   "outputs": [],
   "source": [
    "#Create temporary folders to store new images (First time only)\n",
    "#os.mkdir(data_path+'Temp train')\n",
    "#os.mkdir(data_path+'Temp test')"
   ]
  },
  {
   "cell_type": "code",
   "execution_count": 43,
   "metadata": {},
   "outputs": [],
   "source": [
    "#Create subdirectories that reflect the original train and test directories (First time only)\n",
    "'''\n",
    "for category in os.listdir(train_path):\n",
    "    os.mkdir(temp_train_path+category)\n",
    "\n",
    "for category in os.listdir(test_path):\n",
    "    os.mkdir(temp_test_path+category)\n",
    "'''"
   ]
  },
  {
   "cell_type": "code",
   "execution_count": 15,
   "metadata": {},
   "outputs": [],
   "source": [
    "#Save temporary folder paths to variables\n",
    "temp_train_path=data_path+'Temp train/'\n",
    "temp_test_path=data_path+'Temp test/'\n",
    "\n",
    "temp_train_neg=temp_train_path+'Negative/'\n",
    "temp_train_neut=temp_train_path+'Neutral/'\n",
    "temp_train_pos=temp_train_path+'Positive/'\n",
    "\n",
    "temp_test_neg=temp_test_path+'Negative/'\n",
    "temp_test_neut=temp_test_path+'Neutral/'\n",
    "temp_test_pos=temp_test_path+'Positive/'"
   ]
  },
  {
   "cell_type": "markdown",
   "metadata": {},
   "source": [
    "Because horizontal_flip and vertical_flip only flips images randomly, rather than flipping all images, instead of saving new images through ImageDataGenerator, images can be specified to be flipped during the actual training of the model."
   ]
  },
  {
   "cell_type": "code",
   "execution_count": 166,
   "metadata": {},
   "outputs": [],
   "source": [
    "datagen = ImageDataGenerator(#rescale=1./255,\n",
    "                             #      zoom_range=0.3,\n",
    "                             #      shear_range=45,\n",
    "                             #      fill_mode='reflect'\n",
    "                             #      brightness_range=(1.5,2.2)\n",
    "                             #      width_shift_range=0.3,\n",
    "                             #      height_shift_range=0.3\n",
    "                             )"
   ]
  },
  {
   "cell_type": "code",
   "execution_count": 167,
   "metadata": {},
   "outputs": [
    {
     "name": "stdout",
     "output_type": "stream",
     "text": [
      "Found 585 images belonging to 3 classes.\n"
     ]
    }
   ],
   "source": [
    "i=0\n",
    "for image in datagen.flow_from_directory(directory=train_path,\n",
    "                                         shuffle=False,\n",
    "                                         target_size=(256,256),\n",
    "                                         batch_size=1,\n",
    "                                         save_prefix='', #Rename prefix according to augment method\n",
    "                                         save_to_dir=temp_train_path, \n",
    "                                         save_format='jpg'):\n",
    "    i+=1\n",
    "    if i==train_len:\n",
    "        break"
   ]
  },
  {
   "cell_type": "code",
   "execution_count": 168,
   "metadata": {
    "scrolled": true
   },
   "outputs": [
    {
     "name": "stdout",
     "output_type": "stream",
     "text": [
      "Found 145 images belonging to 3 classes.\n"
     ]
    }
   ],
   "source": [
    "i=0\n",
    "for image in datagen.flow_from_directory(directory=test_path,\n",
    "                                         shuffle=False,\n",
    "                                         target_size=(256,256),\n",
    "                                         batch_size=1,\n",
    "                                         save_prefix='', #Rename prefix according to augment method\n",
    "                                         save_to_dir=temp_test_path, \n",
    "                                         save_format='jpg'):\n",
    "    i+=1\n",
    "    if i==test_len:\n",
    "        break"
   ]
  },
  {
   "cell_type": "code",
   "execution_count": 169,
   "metadata": {},
   "outputs": [
    {
     "data": {
      "text/plain": [
       "['vert shift_0_3653867.jpg',\n",
       " 'vert shift_100_875558.jpg',\n",
       " 'vert shift_101_2985736.jpg',\n",
       " 'vert shift_102_8754996.jpg',\n",
       " 'vert shift_103_623368.jpg',\n",
       " 'vert shift_104_6317447.jpg',\n",
       " 'vert shift_105_6986049.jpg',\n",
       " 'vert shift_106_4082185.jpg',\n",
       " 'vert shift_107_4118948.jpg',\n",
       " 'vert shift_108_9700.jpg']"
      ]
     },
     "execution_count": 169,
     "metadata": {},
     "output_type": "execute_result"
    }
   ],
   "source": [
    "#Create a list of all files in the train and test directory excluding folders\n",
    "#Train set images\n",
    "temp_train_images=[file for file in os.listdir(temp_train_path) if not os.path.isdir(temp_train_path+file)]\n",
    "\n",
    "#Test set images\n",
    "temp_test_images=[file for file in os.listdir(temp_test_path) if not os.path.isdir(temp_test_path+file)]\n",
    "\n",
    "#Sanity check\n",
    "temp_train_images[:10]"
   ]
  },
  {
   "cell_type": "markdown",
   "metadata": {},
   "source": [
    "Since os.listdir does not list files in an alphanumeric order rather than the order they are stored in, moving the images based on the current index order will not match up with the actual order the images are meant to be split from. Each subdirectory of the train and test folder contain a range of images based on picture number (e.g.: picture 0-416 is in the Negative folder in the train set).\n",
    "\n",
    "In order to move the images based on the picture number, the list that contains the image names have to be sorted in the order that the images are stored in. The picture number is stored in the filename between two underscores, \"_\", which can be extracted via the split() method."
   ]
  },
  {
   "cell_type": "code",
   "execution_count": 170,
   "metadata": {},
   "outputs": [],
   "source": [
    "#Create a new index list\n",
    "new_index=[]\n",
    "for image in temp_train_images:\n",
    "    #Split the file name based on underscores, and save the second element of the split into a new list,\n",
    "    #as the picture number follows right after the first \"_\", so long as the filename (i.e: prefix) does not contain another \"_\"\n",
    "    new_index.append(int(image.split('_')[1]))\n",
    "sorted_temp_train_images=[img for _,img in sorted(zip(new_index,temp_train_images))]\n",
    "\n",
    "\n",
    "new_index=[]\n",
    "for image in temp_test_images:\n",
    "    new_index.append(int(image.split('_')[1]))\n",
    "sorted_temp_test_images=[img for _,img in sorted(zip(new_index,temp_test_images))]"
   ]
  },
  {
   "cell_type": "code",
   "execution_count": 171,
   "metadata": {},
   "outputs": [
    {
     "name": "stdout",
     "output_type": "stream",
     "text": [
      "['vert shift_0_3653867.jpg', 'vert shift_1_1673921.jpg', 'vert shift_2_6740855.jpg', 'vert shift_3_3119711.jpg', 'vert shift_4_5624235.jpg']\n",
      "['vert shift_0_3262519.jpg', 'vert shift_1_5744505.jpg', 'vert shift_2_283581.jpg', 'vert shift_3_5801477.jpg', 'vert shift_4_8485031.jpg']\n"
     ]
    }
   ],
   "source": [
    "#Sanity check\n",
    "print(sorted_temp_train_images[0:5])\n",
    "print(sorted_temp_test_images[0:5])"
   ]
  },
  {
   "cell_type": "code",
   "execution_count": 172,
   "metadata": {},
   "outputs": [],
   "source": [
    "#Moving train images\n",
    "for i in range(0, len(sorted_temp_train_images)):\n",
    "    if i < train_neg_len:\n",
    "        os.rename(f'{temp_train_path}/{sorted_temp_train_images[i]}',\n",
    "                  f'{temp_train_neg}/{sorted_temp_train_images[i]}')\n",
    "    elif i < (train_neg_len+train_neut_len):\n",
    "        os.rename(f'{temp_train_path}/{sorted_temp_train_images[i]}',\n",
    "                  f'{temp_train_neut}/{sorted_temp_train_images[i]}')\n",
    "    else:\n",
    "        os.rename(f'{temp_train_path}/{sorted_temp_train_images[i]}',\n",
    "                  f'{temp_train_pos}/{sorted_temp_train_images[i]}')\n",
    "        \n",
    "#Moving test images        \n",
    "for i in range(0, len(sorted_temp_test_images)):\n",
    "    if i < test_neg_len:\n",
    "        os.rename(f'{temp_test_path}/{sorted_temp_test_images[i]}',\n",
    "                  f'{temp_test_neg}/{sorted_temp_test_images[i]}')\n",
    "    elif i < (test_neg_len+test_neut_len):\n",
    "        os.rename(f'{temp_test_path}/{sorted_temp_test_images[i]}',\n",
    "                  f'{temp_test_neut}/{sorted_temp_test_images[i]}')\n",
    "    else:\n",
    "        os.rename(f'{temp_test_path}/{sorted_temp_test_images[i]}',\n",
    "                  f'{temp_test_pos}/{sorted_temp_test_images[i]}')"
   ]
  },
  {
   "cell_type": "code",
   "execution_count": 173,
   "metadata": {},
   "outputs": [],
   "source": [
    "new_train_df=train_df.copy()\n",
    "new_train_df['file']=sorted_temp_train_images\n",
    "\n",
    "new_test_df=test_df.copy()\n",
    "new_test_df['file']=sorted_temp_test_images"
   ]
  },
  {
   "cell_type": "code",
   "execution_count": 74,
   "metadata": {},
   "outputs": [],
   "source": [
    "#Save temporary train dataframe to a csv file (First time only)\n",
    "#new_train_df.to_csv(data_path+'Study Results/Train df.csv', index=False)\n",
    "\n",
    "#Save temporary test dataframe to a csv file (First time only)\n",
    "#new_test_df.to_csv(data_path+'Study Results/Test df.csv', index=False)"
   ]
  },
  {
   "cell_type": "code",
   "execution_count": 174,
   "metadata": {},
   "outputs": [],
   "source": [
    "#Load previously saved train dataframe if already created\n",
    "temp_train_df=pd.read_csv(data_path+'Study Results/Train df.csv')\n",
    "\n",
    "#Load previously saved test dataframe if already created\n",
    "temp_test_df=pd.read_csv(data_path+'Study Results/Test df.csv')"
   ]
  },
  {
   "cell_type": "code",
   "execution_count": 175,
   "metadata": {},
   "outputs": [],
   "source": [
    "#Combine new results to previously saved train dataframe\n",
    "new_train_df=pd.concat([new_train_df, temp_train_df]).reset_index(drop=True)\n",
    "\n",
    "#Combine new results to previously saved test dataframe\n",
    "new_test_df=pd.concat([new_test_df, temp_test_df]).reset_index(drop=True)"
   ]
  },
  {
   "cell_type": "code",
   "execution_count": 176,
   "metadata": {},
   "outputs": [
    {
     "data": {
      "text/html": [
       "<div>\n",
       "<style scoped>\n",
       "    .dataframe tbody tr th:only-of-type {\n",
       "        vertical-align: middle;\n",
       "    }\n",
       "\n",
       "    .dataframe tbody tr th {\n",
       "        vertical-align: top;\n",
       "    }\n",
       "\n",
       "    .dataframe thead th {\n",
       "        text-align: right;\n",
       "    }\n",
       "</style>\n",
       "<table border=\"1\" class=\"dataframe\">\n",
       "  <thead>\n",
       "    <tr style=\"text-align: right;\">\n",
       "      <th></th>\n",
       "      <th>file</th>\n",
       "      <th>Valence</th>\n",
       "      <th>Arousal</th>\n",
       "      <th>Internal norms</th>\n",
       "      <th>External norms</th>\n",
       "      <th>image type</th>\n",
       "      <th>labeled valence category</th>\n",
       "      <th>calculated valence category</th>\n",
       "    </tr>\n",
       "  </thead>\n",
       "  <tbody>\n",
       "    <tr>\n",
       "      <th>0</th>\n",
       "      <td>vert shift_0_3653867.jpg</td>\n",
       "      <td>2.553</td>\n",
       "      <td>74.995</td>\n",
       "      <td>12.289429</td>\n",
       "      <td>16.409175</td>\n",
       "      <td>Animal mistreatment</td>\n",
       "      <td>Negative</td>\n",
       "      <td>Negative</td>\n",
       "    </tr>\n",
       "    <tr>\n",
       "      <th>1</th>\n",
       "      <td>vert shift_1_1673921.jpg</td>\n",
       "      <td>45.698</td>\n",
       "      <td>56.948</td>\n",
       "      <td>75.412445</td>\n",
       "      <td>78.690491</td>\n",
       "      <td>Animal mistreatment</td>\n",
       "      <td>Negative</td>\n",
       "      <td>Negative</td>\n",
       "    </tr>\n",
       "    <tr>\n",
       "      <th>2</th>\n",
       "      <td>vert shift_2_6740855.jpg</td>\n",
       "      <td>36.197</td>\n",
       "      <td>55.567</td>\n",
       "      <td>40.215111</td>\n",
       "      <td>63.345528</td>\n",
       "      <td>Animal mistreatment</td>\n",
       "      <td>Negative</td>\n",
       "      <td>Negative</td>\n",
       "    </tr>\n",
       "    <tr>\n",
       "      <th>3</th>\n",
       "      <td>vert shift_3_3119711.jpg</td>\n",
       "      <td>43.439</td>\n",
       "      <td>48.905</td>\n",
       "      <td>51.038688</td>\n",
       "      <td>40.093340</td>\n",
       "      <td>Animal mistreatment</td>\n",
       "      <td>Negative</td>\n",
       "      <td>Negative</td>\n",
       "    </tr>\n",
       "    <tr>\n",
       "      <th>4</th>\n",
       "      <td>vert shift_4_5624235.jpg</td>\n",
       "      <td>9.945</td>\n",
       "      <td>80.940</td>\n",
       "      <td>11.803228</td>\n",
       "      <td>6.986861</td>\n",
       "      <td>Animal mistreatment</td>\n",
       "      <td>Negative</td>\n",
       "      <td>Negative</td>\n",
       "    </tr>\n",
       "    <tr>\n",
       "      <th>...</th>\n",
       "      <td>...</td>\n",
       "      <td>...</td>\n",
       "      <td>...</td>\n",
       "      <td>...</td>\n",
       "      <td>...</td>\n",
       "      <td>...</td>\n",
       "      <td>...</td>\n",
       "      <td>...</td>\n",
       "    </tr>\n",
       "    <tr>\n",
       "      <th>3505</th>\n",
       "      <td>_580_9312817.jpg</td>\n",
       "      <td>53.348</td>\n",
       "      <td>51.338</td>\n",
       "      <td>NaN</td>\n",
       "      <td>NaN</td>\n",
       "      <td>Spider</td>\n",
       "      <td>Negative</td>\n",
       "      <td>Positive</td>\n",
       "    </tr>\n",
       "    <tr>\n",
       "      <th>3506</th>\n",
       "      <td>_581_8926806.jpg</td>\n",
       "      <td>39.626</td>\n",
       "      <td>54.421</td>\n",
       "      <td>NaN</td>\n",
       "      <td>NaN</td>\n",
       "      <td>Spider</td>\n",
       "      <td>Negative</td>\n",
       "      <td>Negative</td>\n",
       "    </tr>\n",
       "    <tr>\n",
       "      <th>3507</th>\n",
       "      <td>_582_5250039.jpg</td>\n",
       "      <td>40.406</td>\n",
       "      <td>44.130</td>\n",
       "      <td>NaN</td>\n",
       "      <td>NaN</td>\n",
       "      <td>Spider</td>\n",
       "      <td>Negative</td>\n",
       "      <td>Negative</td>\n",
       "    </tr>\n",
       "    <tr>\n",
       "      <th>3508</th>\n",
       "      <td>_583_834428.jpg</td>\n",
       "      <td>55.637</td>\n",
       "      <td>44.821</td>\n",
       "      <td>NaN</td>\n",
       "      <td>NaN</td>\n",
       "      <td>Spider</td>\n",
       "      <td>Negative</td>\n",
       "      <td>Positive</td>\n",
       "    </tr>\n",
       "    <tr>\n",
       "      <th>3509</th>\n",
       "      <td>_584_6828097.jpg</td>\n",
       "      <td>35.905</td>\n",
       "      <td>68.265</td>\n",
       "      <td>NaN</td>\n",
       "      <td>NaN</td>\n",
       "      <td>Spider</td>\n",
       "      <td>Negative</td>\n",
       "      <td>Negative</td>\n",
       "    </tr>\n",
       "  </tbody>\n",
       "</table>\n",
       "<p>3510 rows × 8 columns</p>\n",
       "</div>"
      ],
      "text/plain": [
       "                          file  Valence  Arousal  Internal norms  \\\n",
       "0     vert shift_0_3653867.jpg    2.553   74.995       12.289429   \n",
       "1     vert shift_1_1673921.jpg   45.698   56.948       75.412445   \n",
       "2     vert shift_2_6740855.jpg   36.197   55.567       40.215111   \n",
       "3     vert shift_3_3119711.jpg   43.439   48.905       51.038688   \n",
       "4     vert shift_4_5624235.jpg    9.945   80.940       11.803228   \n",
       "...                        ...      ...      ...             ...   \n",
       "3505          _580_9312817.jpg   53.348   51.338             NaN   \n",
       "3506          _581_8926806.jpg   39.626   54.421             NaN   \n",
       "3507          _582_5250039.jpg   40.406   44.130             NaN   \n",
       "3508           _583_834428.jpg   55.637   44.821             NaN   \n",
       "3509          _584_6828097.jpg   35.905   68.265             NaN   \n",
       "\n",
       "      External norms           image type labeled valence category  \\\n",
       "0          16.409175  Animal mistreatment                 Negative   \n",
       "1          78.690491  Animal mistreatment                 Negative   \n",
       "2          63.345528  Animal mistreatment                 Negative   \n",
       "3          40.093340  Animal mistreatment                 Negative   \n",
       "4           6.986861  Animal mistreatment                 Negative   \n",
       "...              ...                  ...                      ...   \n",
       "3505             NaN               Spider                 Negative   \n",
       "3506             NaN               Spider                 Negative   \n",
       "3507             NaN               Spider                 Negative   \n",
       "3508             NaN               Spider                 Negative   \n",
       "3509             NaN               Spider                 Negative   \n",
       "\n",
       "     calculated valence category  \n",
       "0                       Negative  \n",
       "1                       Negative  \n",
       "2                       Negative  \n",
       "3                       Negative  \n",
       "4                       Negative  \n",
       "...                          ...  \n",
       "3505                    Positive  \n",
       "3506                    Negative  \n",
       "3507                    Negative  \n",
       "3508                    Positive  \n",
       "3509                    Negative  \n",
       "\n",
       "[3510 rows x 8 columns]"
      ]
     },
     "execution_count": 176,
     "metadata": {},
     "output_type": "execute_result"
    }
   ],
   "source": [
    "#Sanity check\n",
    "new_train_df"
   ]
  },
  {
   "cell_type": "code",
   "execution_count": 177,
   "metadata": {},
   "outputs": [
    {
     "data": {
      "text/html": [
       "<div>\n",
       "<style scoped>\n",
       "    .dataframe tbody tr th:only-of-type {\n",
       "        vertical-align: middle;\n",
       "    }\n",
       "\n",
       "    .dataframe tbody tr th {\n",
       "        vertical-align: top;\n",
       "    }\n",
       "\n",
       "    .dataframe thead th {\n",
       "        text-align: right;\n",
       "    }\n",
       "</style>\n",
       "<table border=\"1\" class=\"dataframe\">\n",
       "  <thead>\n",
       "    <tr style=\"text-align: right;\">\n",
       "      <th></th>\n",
       "      <th>file</th>\n",
       "      <th>Valence</th>\n",
       "      <th>Arousal</th>\n",
       "      <th>Internal norms</th>\n",
       "      <th>External norms</th>\n",
       "      <th>image type</th>\n",
       "      <th>labeled valence category</th>\n",
       "      <th>calculated valence category</th>\n",
       "    </tr>\n",
       "  </thead>\n",
       "  <tbody>\n",
       "    <tr>\n",
       "      <th>0</th>\n",
       "      <td>vert shift_0_3262519.jpg</td>\n",
       "      <td>27.544</td>\n",
       "      <td>67.897</td>\n",
       "      <td>22.594799</td>\n",
       "      <td>31.434631</td>\n",
       "      <td>Animal mistreatment</td>\n",
       "      <td>Negative</td>\n",
       "      <td>Negative</td>\n",
       "    </tr>\n",
       "    <tr>\n",
       "      <th>1</th>\n",
       "      <td>vert shift_1_5744505.jpg</td>\n",
       "      <td>12.554</td>\n",
       "      <td>68.251</td>\n",
       "      <td>16.115085</td>\n",
       "      <td>20.963218</td>\n",
       "      <td>Animal mistreatment</td>\n",
       "      <td>Negative</td>\n",
       "      <td>Negative</td>\n",
       "    </tr>\n",
       "    <tr>\n",
       "      <th>2</th>\n",
       "      <td>vert shift_2_283581.jpg</td>\n",
       "      <td>13.449</td>\n",
       "      <td>68.205</td>\n",
       "      <td>15.984217</td>\n",
       "      <td>23.872630</td>\n",
       "      <td>Animal mistreatment</td>\n",
       "      <td>Negative</td>\n",
       "      <td>Negative</td>\n",
       "    </tr>\n",
       "    <tr>\n",
       "      <th>3</th>\n",
       "      <td>vert shift_3_5801477.jpg</td>\n",
       "      <td>26.328</td>\n",
       "      <td>54.657</td>\n",
       "      <td>33.143322</td>\n",
       "      <td>36.414956</td>\n",
       "      <td>Animal mistreatment</td>\n",
       "      <td>Negative</td>\n",
       "      <td>Negative</td>\n",
       "    </tr>\n",
       "    <tr>\n",
       "      <th>4</th>\n",
       "      <td>vert shift_4_8485031.jpg</td>\n",
       "      <td>19.328</td>\n",
       "      <td>61.913</td>\n",
       "      <td>24.674352</td>\n",
       "      <td>25.339161</td>\n",
       "      <td>Animal mistreatment</td>\n",
       "      <td>Negative</td>\n",
       "      <td>Negative</td>\n",
       "    </tr>\n",
       "    <tr>\n",
       "      <th>...</th>\n",
       "      <td>...</td>\n",
       "      <td>...</td>\n",
       "      <td>...</td>\n",
       "      <td>...</td>\n",
       "      <td>...</td>\n",
       "      <td>...</td>\n",
       "      <td>...</td>\n",
       "      <td>...</td>\n",
       "    </tr>\n",
       "    <tr>\n",
       "      <th>865</th>\n",
       "      <td>_140_6187611.jpg</td>\n",
       "      <td>36.412</td>\n",
       "      <td>55.752</td>\n",
       "      <td>NaN</td>\n",
       "      <td>NaN</td>\n",
       "      <td>Spider</td>\n",
       "      <td>Negative</td>\n",
       "      <td>Negative</td>\n",
       "    </tr>\n",
       "    <tr>\n",
       "      <th>866</th>\n",
       "      <td>_141_9509437.jpg</td>\n",
       "      <td>44.716</td>\n",
       "      <td>63.822</td>\n",
       "      <td>NaN</td>\n",
       "      <td>NaN</td>\n",
       "      <td>Spider</td>\n",
       "      <td>Negative</td>\n",
       "      <td>Negative</td>\n",
       "    </tr>\n",
       "    <tr>\n",
       "      <th>867</th>\n",
       "      <td>_142_8736350.jpg</td>\n",
       "      <td>36.900</td>\n",
       "      <td>59.526</td>\n",
       "      <td>NaN</td>\n",
       "      <td>NaN</td>\n",
       "      <td>Spider</td>\n",
       "      <td>Negative</td>\n",
       "      <td>Negative</td>\n",
       "    </tr>\n",
       "    <tr>\n",
       "      <th>868</th>\n",
       "      <td>_143_4952263.jpg</td>\n",
       "      <td>32.774</td>\n",
       "      <td>61.638</td>\n",
       "      <td>NaN</td>\n",
       "      <td>NaN</td>\n",
       "      <td>Spider</td>\n",
       "      <td>Negative</td>\n",
       "      <td>Negative</td>\n",
       "    </tr>\n",
       "    <tr>\n",
       "      <th>869</th>\n",
       "      <td>_144_2195041.jpg</td>\n",
       "      <td>32.313</td>\n",
       "      <td>64.810</td>\n",
       "      <td>NaN</td>\n",
       "      <td>NaN</td>\n",
       "      <td>Spider</td>\n",
       "      <td>Negative</td>\n",
       "      <td>Negative</td>\n",
       "    </tr>\n",
       "  </tbody>\n",
       "</table>\n",
       "<p>870 rows × 8 columns</p>\n",
       "</div>"
      ],
      "text/plain": [
       "                         file  Valence  Arousal  Internal norms  \\\n",
       "0    vert shift_0_3262519.jpg   27.544   67.897       22.594799   \n",
       "1    vert shift_1_5744505.jpg   12.554   68.251       16.115085   \n",
       "2     vert shift_2_283581.jpg   13.449   68.205       15.984217   \n",
       "3    vert shift_3_5801477.jpg   26.328   54.657       33.143322   \n",
       "4    vert shift_4_8485031.jpg   19.328   61.913       24.674352   \n",
       "..                        ...      ...      ...             ...   \n",
       "865          _140_6187611.jpg   36.412   55.752             NaN   \n",
       "866          _141_9509437.jpg   44.716   63.822             NaN   \n",
       "867          _142_8736350.jpg   36.900   59.526             NaN   \n",
       "868          _143_4952263.jpg   32.774   61.638             NaN   \n",
       "869          _144_2195041.jpg   32.313   64.810             NaN   \n",
       "\n",
       "     External norms           image type labeled valence category  \\\n",
       "0         31.434631  Animal mistreatment                 Negative   \n",
       "1         20.963218  Animal mistreatment                 Negative   \n",
       "2         23.872630  Animal mistreatment                 Negative   \n",
       "3         36.414956  Animal mistreatment                 Negative   \n",
       "4         25.339161  Animal mistreatment                 Negative   \n",
       "..              ...                  ...                      ...   \n",
       "865             NaN               Spider                 Negative   \n",
       "866             NaN               Spider                 Negative   \n",
       "867             NaN               Spider                 Negative   \n",
       "868             NaN               Spider                 Negative   \n",
       "869             NaN               Spider                 Negative   \n",
       "\n",
       "    calculated valence category  \n",
       "0                      Negative  \n",
       "1                      Negative  \n",
       "2                      Negative  \n",
       "3                      Negative  \n",
       "4                      Negative  \n",
       "..                          ...  \n",
       "865                    Negative  \n",
       "866                    Negative  \n",
       "867                    Negative  \n",
       "868                    Negative  \n",
       "869                    Negative  \n",
       "\n",
       "[870 rows x 8 columns]"
      ]
     },
     "execution_count": 177,
     "metadata": {},
     "output_type": "execute_result"
    }
   ],
   "source": [
    "#Sanity check\n",
    "new_test_df"
   ]
  },
  {
   "cell_type": "code",
   "execution_count": 178,
   "metadata": {},
   "outputs": [],
   "source": [
    "#Saving new train set to a csv file\n",
    "new_train_df.to_csv(data_path+'Study Results/Train df.csv', index=False)\n",
    "\n",
    "#Save new test set to a csv file\n",
    "new_test_df.to_csv(data_path+'Study Results/Test df.csv', index=False)"
   ]
  }
 ],
 "metadata": {
  "kernelspec": {
   "display_name": "deeplearning",
   "language": "python",
   "name": "deeplearning"
  },
  "language_info": {
   "codemirror_mode": {
    "name": "ipython",
    "version": 3
   },
   "file_extension": ".py",
   "mimetype": "text/x-python",
   "name": "python",
   "nbconvert_exporter": "python",
   "pygments_lexer": "ipython3",
   "version": "3.7.7"
  }
 },
 "nbformat": 4,
 "nbformat_minor": 4
}
