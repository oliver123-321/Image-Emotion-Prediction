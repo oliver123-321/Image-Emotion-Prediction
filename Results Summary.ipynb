{
 "cells": [
  {
   "cell_type": "code",
   "execution_count": 1,
   "metadata": {},
   "outputs": [],
   "source": [
    "#Import packages\n",
    "import numpy as np\n",
    "import pandas as pd\n",
    "import matplotlib.pyplot as plt\n",
    "%matplotlib inline\n",
    "import os"
   ]
  },
  {
   "cell_type": "code",
   "execution_count": 2,
   "metadata": {},
   "outputs": [],
   "source": [
    "#Saving paths that'll be called on\n",
    "results_path='../Results/'"
   ]
  },
  {
   "cell_type": "code",
   "execution_count": 3,
   "metadata": {},
   "outputs": [],
   "source": [
    "#Reading in results from different models\n",
    "InceptionV3=pd.read_csv(results_path+'InceptionV3/InceptionV3 Regression Optimization.csv')\n",
    "MobileNet=pd.read_csv(results_path+'MobileNet/MobileNet Regression Optimization.csv')\n",
    "ResNet50=pd.read_csv(results_path+'ResNet50/ResNet50 Regression Optimization.csv')\n",
    "VGG19=pd.read_csv(results_path+'VGG19/VGG19 Regression Optimization.csv')\n",
    "Xception=pd.read_csv(results_path+'Xception/Xception Regression Optimization.csv')"
   ]
  },
  {
   "cell_type": "code",
   "execution_count": 4,
   "metadata": {},
   "outputs": [],
   "source": [
    "#Combining results together\n",
    "df=pd.concat([InceptionV3,MobileNet,ResNet50,VGG19,Xception], axis=0).reset_index(drop=True)"
   ]
  },
  {
   "cell_type": "code",
   "execution_count": 5,
   "metadata": {},
   "outputs": [
    {
     "data": {
      "text/html": [
       "<div>\n",
       "<style scoped>\n",
       "    .dataframe tbody tr th:only-of-type {\n",
       "        vertical-align: middle;\n",
       "    }\n",
       "\n",
       "    .dataframe tbody tr th {\n",
       "        vertical-align: top;\n",
       "    }\n",
       "\n",
       "    .dataframe thead th {\n",
       "        text-align: right;\n",
       "    }\n",
       "</style>\n",
       "<table border=\"1\" class=\"dataframe\">\n",
       "  <thead>\n",
       "    <tr style=\"text-align: right;\">\n",
       "      <th></th>\n",
       "      <th>model</th>\n",
       "      <th>new layers before flatten</th>\n",
       "      <th>nodes</th>\n",
       "      <th>dropout</th>\n",
       "      <th>lr</th>\n",
       "      <th>loss function</th>\n",
       "      <th>train_loss</th>\n",
       "      <th>other metrics</th>\n",
       "      <th>test_MSE</th>\n",
       "      <th>test_R2</th>\n",
       "      <th>epochs</th>\n",
       "      <th>early_stopping</th>\n",
       "      <th>stop_patience</th>\n",
       "    </tr>\n",
       "  </thead>\n",
       "  <tbody>\n",
       "    <tr>\n",
       "      <th>0</th>\n",
       "      <td>InceptionV3</td>\n",
       "      <td>4</td>\n",
       "      <td>[27, 27]</td>\n",
       "      <td>[0.5, 0.5]</td>\n",
       "      <td>0.000075</td>\n",
       "      <td>mean_squared_error</td>\n",
       "      <td>632.012</td>\n",
       "      <td>[{'mae': 19.521556854248047}, {'mape': 83.1570...</td>\n",
       "      <td>888.409961</td>\n",
       "      <td>-0.326439</td>\n",
       "      <td>150</td>\n",
       "      <td>NaN</td>\n",
       "      <td>NaN</td>\n",
       "    </tr>\n",
       "    <tr>\n",
       "      <th>1</th>\n",
       "      <td>MobileNet</td>\n",
       "      <td>5</td>\n",
       "      <td>[28, 5]</td>\n",
       "      <td>[0.3, 0.3]</td>\n",
       "      <td>0.000080</td>\n",
       "      <td>mean_squared_error</td>\n",
       "      <td>588.269</td>\n",
       "      <td>[{'mae': 18.6601619720459}, {'mape': 88.542747...</td>\n",
       "      <td>814.492553</td>\n",
       "      <td>-0.216077</td>\n",
       "      <td>100</td>\n",
       "      <td>F</td>\n",
       "      <td>50.0</td>\n",
       "    </tr>\n",
       "    <tr>\n",
       "      <th>2</th>\n",
       "      <td>MobileNet</td>\n",
       "      <td>7</td>\n",
       "      <td>[350, 300, 75, 15]</td>\n",
       "      <td>[0.5, 0.5, 0.5, 0]</td>\n",
       "      <td>0.000080</td>\n",
       "      <td>mean_squared_error</td>\n",
       "      <td>179.754</td>\n",
       "      <td>[{'mae': 10.53239917755127}, {'mape': 42.76624...</td>\n",
       "      <td>1072.141784</td>\n",
       "      <td>-0.600760</td>\n",
       "      <td>150</td>\n",
       "      <td>T, epoch 93</td>\n",
       "      <td>50.0</td>\n",
       "    </tr>\n",
       "    <tr>\n",
       "      <th>3</th>\n",
       "      <td>MobileNet</td>\n",
       "      <td>8</td>\n",
       "      <td>[200, 100, 50, 28]</td>\n",
       "      <td>[0.5, 0.5, 0.5, 0.5]</td>\n",
       "      <td>0.000050</td>\n",
       "      <td>mean_squared_error</td>\n",
       "      <td>675.705</td>\n",
       "      <td>[{'mae': 20.29682731628418}, {'mape': 65.31738...</td>\n",
       "      <td>962.894692</td>\n",
       "      <td>-0.437649</td>\n",
       "      <td>150</td>\n",
       "      <td>F</td>\n",
       "      <td>50.0</td>\n",
       "    </tr>\n",
       "    <tr>\n",
       "      <th>4</th>\n",
       "      <td>MobileNet</td>\n",
       "      <td>6</td>\n",
       "      <td>[30, 30, 30]</td>\n",
       "      <td>[0.5, 0.5, 0.5]</td>\n",
       "      <td>0.000050</td>\n",
       "      <td>mean_squared_error</td>\n",
       "      <td>913.825</td>\n",
       "      <td>[{'mae': 24.04484748840332}, {'mape': 90.32450...</td>\n",
       "      <td>966.038502</td>\n",
       "      <td>-0.442343</td>\n",
       "      <td>150</td>\n",
       "      <td>F</td>\n",
       "      <td>50.0</td>\n",
       "    </tr>\n",
       "  </tbody>\n",
       "</table>\n",
       "</div>"
      ],
      "text/plain": [
       "         model  new layers before flatten               nodes  \\\n",
       "0  InceptionV3                          4            [27, 27]   \n",
       "1    MobileNet                          5             [28, 5]   \n",
       "2    MobileNet                          7  [350, 300, 75, 15]   \n",
       "3    MobileNet                          8  [200, 100, 50, 28]   \n",
       "4    MobileNet                          6        [30, 30, 30]   \n",
       "\n",
       "                dropout        lr       loss function  train_loss  \\\n",
       "0            [0.5, 0.5]  0.000075  mean_squared_error     632.012   \n",
       "1            [0.3, 0.3]  0.000080  mean_squared_error     588.269   \n",
       "2    [0.5, 0.5, 0.5, 0]  0.000080  mean_squared_error     179.754   \n",
       "3  [0.5, 0.5, 0.5, 0.5]  0.000050  mean_squared_error     675.705   \n",
       "4       [0.5, 0.5, 0.5]  0.000050  mean_squared_error     913.825   \n",
       "\n",
       "                                       other metrics     test_MSE   test_R2  \\\n",
       "0  [{'mae': 19.521556854248047}, {'mape': 83.1570...   888.409961 -0.326439   \n",
       "1  [{'mae': 18.6601619720459}, {'mape': 88.542747...   814.492553 -0.216077   \n",
       "2  [{'mae': 10.53239917755127}, {'mape': 42.76624...  1072.141784 -0.600760   \n",
       "3  [{'mae': 20.29682731628418}, {'mape': 65.31738...   962.894692 -0.437649   \n",
       "4  [{'mae': 24.04484748840332}, {'mape': 90.32450...   966.038502 -0.442343   \n",
       "\n",
       "   epochs early_stopping  stop_patience  \n",
       "0     150            NaN            NaN  \n",
       "1     100              F           50.0  \n",
       "2     150    T, epoch 93           50.0  \n",
       "3     150              F           50.0  \n",
       "4     150              F           50.0  "
      ]
     },
     "execution_count": 5,
     "metadata": {},
     "output_type": "execute_result"
    }
   ],
   "source": [
    "#Check\n",
    "df.head()"
   ]
  },
  {
   "cell_type": "code",
   "execution_count": 6,
   "metadata": {},
   "outputs": [],
   "source": [
    "#Find the best test MSE score from each model by grouping by model, then taking the min test MSE\n",
    "result_df=df[df['test_MSE'].isin(df.groupby('model')['test_MSE'].min().values)]\n",
    "result_df.reset_index(drop=True, inplace=True)"
   ]
  },
  {
   "cell_type": "code",
   "execution_count": 7,
   "metadata": {},
   "outputs": [
    {
     "name": "stderr",
     "output_type": "stream",
     "text": [
      "C:\\Users\\User\\anaconda3\\envs\\deeplearning\\lib\\site-packages\\ipykernel_launcher.py:2: SettingWithCopyWarning: \n",
      "A value is trying to be set on a copy of a slice from a DataFrame.\n",
      "Try using .loc[row_indexer,col_indexer] = value instead\n",
      "\n",
      "See the caveats in the documentation: https://pandas.pydata.org/pandas-docs/stable/user_guide/indexing.html#returning-a-view-versus-a-copy\n",
      "  \n",
      "C:\\Users\\User\\anaconda3\\envs\\deeplearning\\lib\\site-packages\\ipykernel_launcher.py:3: SettingWithCopyWarning: \n",
      "A value is trying to be set on a copy of a slice from a DataFrame.\n",
      "Try using .loc[row_indexer,col_indexer] = value instead\n",
      "\n",
      "See the caveats in the documentation: https://pandas.pydata.org/pandas-docs/stable/user_guide/indexing.html#returning-a-view-versus-a-copy\n",
      "  This is separate from the ipykernel package so we can avoid doing imports until\n"
     ]
    }
   ],
   "source": [
    "#Round results up to 2 decimal points and sort test MSE value\n",
    "result_df['test_MSE']=round(result_df['test_MSE'],2)\n",
    "result_df['test_R2']=round(result_df['test_R2'],2)\n",
    "result_df=result_df.sort_values(['test_MSE']).reset_index(drop=True)"
   ]
  },
  {
   "cell_type": "code",
   "execution_count": 8,
   "metadata": {},
   "outputs": [
    {
     "data": {
      "text/html": [
       "<div>\n",
       "<style scoped>\n",
       "    .dataframe tbody tr th:only-of-type {\n",
       "        vertical-align: middle;\n",
       "    }\n",
       "\n",
       "    .dataframe tbody tr th {\n",
       "        vertical-align: top;\n",
       "    }\n",
       "\n",
       "    .dataframe thead th {\n",
       "        text-align: right;\n",
       "    }\n",
       "</style>\n",
       "<table border=\"1\" class=\"dataframe\">\n",
       "  <thead>\n",
       "    <tr style=\"text-align: right;\">\n",
       "      <th></th>\n",
       "      <th>model</th>\n",
       "      <th>test_MSE</th>\n",
       "      <th>test_R2</th>\n",
       "    </tr>\n",
       "  </thead>\n",
       "  <tbody>\n",
       "    <tr>\n",
       "      <th>0</th>\n",
       "      <td>MobileNet</td>\n",
       "      <td>795.87</td>\n",
       "      <td>-0.19</td>\n",
       "    </tr>\n",
       "    <tr>\n",
       "      <th>1</th>\n",
       "      <td>Xception</td>\n",
       "      <td>843.20</td>\n",
       "      <td>-0.26</td>\n",
       "    </tr>\n",
       "    <tr>\n",
       "      <th>2</th>\n",
       "      <td>InceptionV3</td>\n",
       "      <td>888.41</td>\n",
       "      <td>-0.33</td>\n",
       "    </tr>\n",
       "    <tr>\n",
       "      <th>3</th>\n",
       "      <td>ResNet50</td>\n",
       "      <td>1006.39</td>\n",
       "      <td>-0.50</td>\n",
       "    </tr>\n",
       "    <tr>\n",
       "      <th>4</th>\n",
       "      <td>VGG19</td>\n",
       "      <td>1010.03</td>\n",
       "      <td>-0.51</td>\n",
       "    </tr>\n",
       "  </tbody>\n",
       "</table>\n",
       "</div>"
      ],
      "text/plain": [
       "         model  test_MSE  test_R2\n",
       "0    MobileNet    795.87    -0.19\n",
       "1     Xception    843.20    -0.26\n",
       "2  InceptionV3    888.41    -0.33\n",
       "3     ResNet50   1006.39    -0.50\n",
       "4        VGG19   1010.03    -0.51"
      ]
     },
     "execution_count": 8,
     "metadata": {},
     "output_type": "execute_result"
    }
   ],
   "source": [
    "#Look at the metrics used to evaluate test performance\n",
    "result_df[['model', 'test_MSE', 'test_R2']]"
   ]
  },
  {
   "cell_type": "code",
   "execution_count": 9,
   "metadata": {},
   "outputs": [],
   "source": [
    "#Get the parameter settings for the best run of each model\n",
    "\n",
    "#Create an empty column\n",
    "result_df['title']=''\n",
    "\n",
    "#Loop through each row\n",
    "for i in range(0, len(result_df)):\n",
    "    \n",
    "    #Get the parameter settings from each column and save it to variables\n",
    "    model=result_df.loc[i, 'model']\n",
    "    #Since results are returned as strings, the number of layers will need to be split by ','\n",
    "    #to become a list for len() to get the correct number of layers\n",
    "    dense_layers=len(result_df.loc[i, 'nodes'].replace(\"[\", \"\").replace(\"]\",\"\").replace(\" \",\"\").split(','))\n",
    "    nodes=result_df.loc[i, 'nodes']\n",
    "    dropout=result_df.loc[i, 'dropout']\n",
    "    lr=result_df.loc[i, 'lr']\n",
    "    loss_function=result_df.loc[i, 'loss function']\n",
    "    epochs=result_df.loc[i, 'epochs']\n",
    "    early_stop=result_df.loc[i, 'early_stopping']\n",
    "    pat=result_df.loc[i, 'stop_patience']\n",
    "    \n",
    "    result_df.loc[i, 'title']='Model: {}, {} Dense layers, Nodes: {}, Dropout: {}, Learning rate: {}, Loss function: {}, \\\n",
    "Epochs: {}, Early stop: {}, Stop patience: {}\\\n",
    "'.format(model, dense_layers, nodes, dropout, lr, loss_function, epochs, early_stop, pat)"
   ]
  },
  {
   "cell_type": "code",
   "execution_count": 10,
   "metadata": {},
   "outputs": [
    {
     "data": {
      "text/plain": [
       "'Model: MobileNet, 2 Dense layers, Nodes: [27, 27], Dropout: [0.5, 0.5], Learning rate: 7.5e-05, Loss function: mean_squared_error, Epochs: 150, Early stop: nan, Stop patience: nan'"
      ]
     },
     "execution_count": 10,
     "metadata": {},
     "output_type": "execute_result"
    }
   ],
   "source": [
    "#Get the best performing model and its parameter settings\n",
    "result_df['title'][0]"
   ]
  }
 ],
 "metadata": {
  "kernelspec": {
   "display_name": "Python 3",
   "language": "python",
   "name": "python3"
  },
  "language_info": {
   "codemirror_mode": {
    "name": "ipython",
    "version": 3
   },
   "file_extension": ".py",
   "mimetype": "text/x-python",
   "name": "python",
   "nbconvert_exporter": "python",
   "pygments_lexer": "ipython3",
   "version": "3.7.7"
  }
 },
 "nbformat": 4,
 "nbformat_minor": 4
}
